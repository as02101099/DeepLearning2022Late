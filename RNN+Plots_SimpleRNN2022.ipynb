{
  "nbformat": 4,
  "nbformat_minor": 0,
  "metadata": {
    "colab": {
      "provenance": [],
      "include_colab_link": true
    },
    "kernelspec": {
      "name": "python3",
      "display_name": "Python 3"
    },
    "language_info": {
      "name": "python"
    }
  },
  "cells": [
    {
      "cell_type": "markdown",
      "metadata": {
        "id": "view-in-github",
        "colab_type": "text"
      },
      "source": [
        "<a href=\"https://colab.research.google.com/github/as02101099/DeepLearning2022Late/blob/main/RNN%2BPlots_SimpleRNN2022.ipynb\" target=\"_parent\"><img src=\"https://colab.research.google.com/assets/colab-badge.svg\" alt=\"Open In Colab\"/></a>"
      ]
    },
    {
      "cell_type": "markdown",
      "source": [
        "# RNNの実装\n",
        "#practice RNN"
      ],
      "metadata": {
        "id": "59nFfNnZd686"
      }
    },
    {
      "cell_type": "code",
      "execution_count": 1,
      "metadata": {
        "id": "1RETnLE7dhz9"
      },
      "outputs": [],
      "source": [
        "from keras.models import Model\n",
        "from keras.layers import Input, SimpleRNN"
      ]
    },
    {
      "cell_type": "code",
      "source": [
        "# その他のライブラリのimport\n",
        "from IPython.display import SVG\n",
        "from keras.utils.vis_utils import model_to_dot"
      ],
      "metadata": {
        "id": "HX3tBIVxeU47"
      },
      "execution_count": 2,
      "outputs": []
    },
    {
      "cell_type": "markdown",
      "source": [
        "## モデルを組み立てるための定義"
      ],
      "metadata": {
        "id": "20-FXCgrXDcC"
      }
    },
    {
      "cell_type": "code",
      "source": [
        "units = 10\n",
        "time_steps = 5 # シーケンス\n",
        "input_dim = 15 # 入力ベクトル\n",
        "input_shape = (time_steps, input_dim)\n"
      ],
      "metadata": {
        "id": "9qsQMwR-esK0"
      },
      "execution_count": 3,
      "outputs": []
    },
    {
      "cell_type": "markdown",
      "source": [
        "## RNNの学習モデルを作成する"
      ],
      "metadata": {
        "id": "A3A3rIWGYCIp"
      }
    },
    {
      "cell_type": "code",
      "source": [
        "x = Input( shape=input_shape, name='Input' ) # 入力層\n",
        "y = SimpleRNN( units=units, activation='sigmoid', name='SimpleRNN_1' )(x)\n",
        "model = Model( inputs=[x] , outputs=[y] )\n",
        "\n",
        "# SVG形式でモデルを表示する\n",
        "SVG( model_to_dot( model, show_shapes=True, dpi=None )\n",
        ".create( prog='dot', format='svg' ) )\n"
      ],
      "metadata": {
        "colab": {
          "base_uri": "https://localhost:8080/",
          "height": 205
        },
        "id": "4DkbmQK3XkkY",
        "outputId": "765cdc93-4725-41ca-fa20-e70ed4547d21"
      },
      "execution_count": 4,
      "outputs": [
        {
          "output_type": "execute_result",
          "data": {
            "text/plain": [
              "<IPython.core.display.SVG object>"
            ],
            "image/svg+xml": "<svg xmlns=\"http://www.w3.org/2000/svg\" xmlns:xlink=\"http://www.w3.org/1999/xlink\" width=\"318pt\" height=\"138pt\" viewBox=\"0.00 0.00 317.50 138.00\">\n<g id=\"graph0\" class=\"graph\" transform=\"scale(1 1) rotate(0) translate(4 134)\">\n<title>G</title>\n<polygon fill=\"white\" stroke=\"transparent\" points=\"-4,4 -4,-134 313.5,-134 313.5,4 -4,4\"/>\n<!-- dpi -->\n<g id=\"node1\" class=\"node\">\n<title>dpi</title>\n<ellipse fill=\"none\" stroke=\"black\" cx=\"27\" cy=\"-106.5\" rx=\"27\" ry=\"18\"/>\n<text text-anchor=\"middle\" x=\"27\" y=\"-102.8\" font-family=\"Times,serif\" font-size=\"14.00\">dpi</text>\n</g>\n<!-- 139645666683872 -->\n<g id=\"node2\" class=\"node\">\n<title>139645666683872</title>\n<polygon fill=\"none\" stroke=\"black\" points=\"72.5,-83.5 72.5,-129.5 303.5,-129.5 303.5,-83.5 72.5,-83.5\"/>\n<text text-anchor=\"middle\" x=\"111\" y=\"-114.3\" font-family=\"Times,serif\" font-size=\"14.00\">Input</text>\n<polyline fill=\"none\" stroke=\"black\" points=\"72.5,-106.5 149.5,-106.5 \"/>\n<text text-anchor=\"middle\" x=\"111\" y=\"-91.3\" font-family=\"Times,serif\" font-size=\"14.00\">InputLayer</text>\n<polyline fill=\"none\" stroke=\"black\" points=\"149.5,-83.5 149.5,-129.5 \"/>\n<text text-anchor=\"middle\" x=\"177\" y=\"-114.3\" font-family=\"Times,serif\" font-size=\"14.00\">input:</text>\n<polyline fill=\"none\" stroke=\"black\" points=\"149.5,-106.5 204.5,-106.5 \"/>\n<text text-anchor=\"middle\" x=\"177\" y=\"-91.3\" font-family=\"Times,serif\" font-size=\"14.00\">output:</text>\n<polyline fill=\"none\" stroke=\"black\" points=\"204.5,-83.5 204.5,-129.5 \"/>\n<text text-anchor=\"middle\" x=\"254\" y=\"-114.3\" font-family=\"Times,serif\" font-size=\"14.00\">[(None, 5, 15)]</text>\n<polyline fill=\"none\" stroke=\"black\" points=\"204.5,-106.5 303.5,-106.5 \"/>\n<text text-anchor=\"middle\" x=\"254\" y=\"-91.3\" font-family=\"Times,serif\" font-size=\"14.00\">[(None, 5, 15)]</text>\n</g>\n<!-- 139645666683632 -->\n<g id=\"node3\" class=\"node\">\n<title>139645666683632</title>\n<polygon fill=\"none\" stroke=\"black\" points=\"66.5,-0.5 66.5,-46.5 309.5,-46.5 309.5,-0.5 66.5,-0.5\"/>\n<text text-anchor=\"middle\" x=\"115.5\" y=\"-31.3\" font-family=\"Times,serif\" font-size=\"14.00\">SimpleRNN_1</text>\n<polyline fill=\"none\" stroke=\"black\" points=\"66.5,-23.5 164.5,-23.5 \"/>\n<text text-anchor=\"middle\" x=\"115.5\" y=\"-8.3\" font-family=\"Times,serif\" font-size=\"14.00\">SimpleRNN</text>\n<polyline fill=\"none\" stroke=\"black\" points=\"164.5,-0.5 164.5,-46.5 \"/>\n<text text-anchor=\"middle\" x=\"192\" y=\"-31.3\" font-family=\"Times,serif\" font-size=\"14.00\">input:</text>\n<polyline fill=\"none\" stroke=\"black\" points=\"164.5,-23.5 219.5,-23.5 \"/>\n<text text-anchor=\"middle\" x=\"192\" y=\"-8.3\" font-family=\"Times,serif\" font-size=\"14.00\">output:</text>\n<polyline fill=\"none\" stroke=\"black\" points=\"219.5,-0.5 219.5,-46.5 \"/>\n<text text-anchor=\"middle\" x=\"264.5\" y=\"-31.3\" font-family=\"Times,serif\" font-size=\"14.00\">(None, 5, 15)</text>\n<polyline fill=\"none\" stroke=\"black\" points=\"219.5,-23.5 309.5,-23.5 \"/>\n<text text-anchor=\"middle\" x=\"264.5\" y=\"-8.3\" font-family=\"Times,serif\" font-size=\"14.00\">(None, 10)</text>\n</g>\n<!-- 139645666683872&#45;&gt;139645666683632 -->\n<g id=\"edge1\" class=\"edge\">\n<title>139645666683872-&gt;139645666683632</title>\n<path fill=\"none\" stroke=\"black\" d=\"M188,-83.37C188,-75.15 188,-65.66 188,-56.73\"/>\n<polygon fill=\"black\" stroke=\"black\" points=\"191.5,-56.61 188,-46.61 184.5,-56.61 191.5,-56.61\"/>\n</g>\n</g>\n</svg>"
          },
          "metadata": {},
          "execution_count": 4
        }
      ]
    },
    {
      "cell_type": "markdown",
      "source": [
        "### シーケンシャルな出力（入力順に対応する出力をする）RNN学習モデル"
      ],
      "metadata": {
        "id": "II1o6GgNbTs2"
      }
    },
    {
      "cell_type": "code",
      "source": [
        "# xの入力層は同じ(上で宣言したものを使う)\n",
        "# x = Input( shape=input_shape, name='Input' ) # 入力層\n",
        "y = SimpleRNN( units=units, activation='sigmoid', name='SinpleRNN_2',\n",
        "              return_sequences=True)(x)\n",
        "model = Model( inputs=[x], outputs=[y] )\n",
        "# SVGでモデルを表示\n",
        "SVG( model_to_dot( model, show_shapes=True, dpi=None )\n",
        ".create(prog='dot', format='svg') )"
      ],
      "metadata": {
        "colab": {
          "base_uri": "https://localhost:8080/",
          "height": 205
        },
        "id": "z4dql-CFYW4L",
        "outputId": "e366d9ea-a4dc-4ee8-bf99-a9a79018268e"
      },
      "execution_count": 5,
      "outputs": [
        {
          "output_type": "execute_result",
          "data": {
            "text/plain": [
              "<IPython.core.display.SVG object>"
            ],
            "image/svg+xml": "<svg xmlns=\"http://www.w3.org/2000/svg\" xmlns:xlink=\"http://www.w3.org/1999/xlink\" width=\"315pt\" height=\"138pt\" viewBox=\"0.00 0.00 315.00 138.00\">\n<g id=\"graph0\" class=\"graph\" transform=\"scale(1 1) rotate(0) translate(4 134)\">\n<title>G</title>\n<polygon fill=\"white\" stroke=\"transparent\" points=\"-4,4 -4,-134 311,-134 311,4 -4,4\"/>\n<!-- dpi -->\n<g id=\"node1\" class=\"node\">\n<title>dpi</title>\n<ellipse fill=\"none\" stroke=\"black\" cx=\"27\" cy=\"-106.5\" rx=\"27\" ry=\"18\"/>\n<text text-anchor=\"middle\" x=\"27\" y=\"-102.8\" font-family=\"Times,serif\" font-size=\"14.00\">dpi</text>\n</g>\n<!-- 139645666683872 -->\n<g id=\"node2\" class=\"node\">\n<title>139645666683872</title>\n<polygon fill=\"none\" stroke=\"black\" points=\"72.5,-83.5 72.5,-129.5 303.5,-129.5 303.5,-83.5 72.5,-83.5\"/>\n<text text-anchor=\"middle\" x=\"111\" y=\"-114.3\" font-family=\"Times,serif\" font-size=\"14.00\">Input</text>\n<polyline fill=\"none\" stroke=\"black\" points=\"72.5,-106.5 149.5,-106.5 \"/>\n<text text-anchor=\"middle\" x=\"111\" y=\"-91.3\" font-family=\"Times,serif\" font-size=\"14.00\">InputLayer</text>\n<polyline fill=\"none\" stroke=\"black\" points=\"149.5,-83.5 149.5,-129.5 \"/>\n<text text-anchor=\"middle\" x=\"177\" y=\"-114.3\" font-family=\"Times,serif\" font-size=\"14.00\">input:</text>\n<polyline fill=\"none\" stroke=\"black\" points=\"149.5,-106.5 204.5,-106.5 \"/>\n<text text-anchor=\"middle\" x=\"177\" y=\"-91.3\" font-family=\"Times,serif\" font-size=\"14.00\">output:</text>\n<polyline fill=\"none\" stroke=\"black\" points=\"204.5,-83.5 204.5,-129.5 \"/>\n<text text-anchor=\"middle\" x=\"254\" y=\"-114.3\" font-family=\"Times,serif\" font-size=\"14.00\">[(None, 5, 15)]</text>\n<polyline fill=\"none\" stroke=\"black\" points=\"204.5,-106.5 303.5,-106.5 \"/>\n<text text-anchor=\"middle\" x=\"254\" y=\"-91.3\" font-family=\"Times,serif\" font-size=\"14.00\">[(None, 5, 15)]</text>\n</g>\n<!-- 139645666683008 -->\n<g id=\"node3\" class=\"node\">\n<title>139645666683008</title>\n<polygon fill=\"none\" stroke=\"black\" points=\"69,-0.5 69,-46.5 307,-46.5 307,-0.5 69,-0.5\"/>\n<text text-anchor=\"middle\" x=\"115.5\" y=\"-31.3\" font-family=\"Times,serif\" font-size=\"14.00\">SinpleRNN_2</text>\n<polyline fill=\"none\" stroke=\"black\" points=\"69,-23.5 162,-23.5 \"/>\n<text text-anchor=\"middle\" x=\"115.5\" y=\"-8.3\" font-family=\"Times,serif\" font-size=\"14.00\">SimpleRNN</text>\n<polyline fill=\"none\" stroke=\"black\" points=\"162,-0.5 162,-46.5 \"/>\n<text text-anchor=\"middle\" x=\"189.5\" y=\"-31.3\" font-family=\"Times,serif\" font-size=\"14.00\">input:</text>\n<polyline fill=\"none\" stroke=\"black\" points=\"162,-23.5 217,-23.5 \"/>\n<text text-anchor=\"middle\" x=\"189.5\" y=\"-8.3\" font-family=\"Times,serif\" font-size=\"14.00\">output:</text>\n<polyline fill=\"none\" stroke=\"black\" points=\"217,-0.5 217,-46.5 \"/>\n<text text-anchor=\"middle\" x=\"262\" y=\"-31.3\" font-family=\"Times,serif\" font-size=\"14.00\">(None, 5, 15)</text>\n<polyline fill=\"none\" stroke=\"black\" points=\"217,-23.5 307,-23.5 \"/>\n<text text-anchor=\"middle\" x=\"262\" y=\"-8.3\" font-family=\"Times,serif\" font-size=\"14.00\">(None, 5, 10)</text>\n</g>\n<!-- 139645666683872&#45;&gt;139645666683008 -->\n<g id=\"edge1\" class=\"edge\">\n<title>139645666683872-&gt;139645666683008</title>\n<path fill=\"none\" stroke=\"black\" d=\"M188,-83.37C188,-75.15 188,-65.66 188,-56.73\"/>\n<polygon fill=\"black\" stroke=\"black\" points=\"191.5,-56.61 188,-46.61 184.5,-56.61 191.5,-56.61\"/>\n</g>\n</g>\n</svg>"
          },
          "metadata": {},
          "execution_count": 5
        }
      ]
    },
    {
      "cell_type": "markdown",
      "source": [
        "## 再帰処理の中身（各ステップ）を表示させる"
      ],
      "metadata": {
        "id": "xEeNkyWzeoxm"
      }
    },
    {
      "cell_type": "code",
      "source": [
        "# RNNのモデルの内部状態を出力\n",
        "# xの入力層は同じ(上で宣言したものを使う)\n",
        "# x = Input( shape=input_shape, name='Input' ) # 入力層\n",
        "y, state = SimpleRNN( units=units, activation='sigmoid', \n",
        "                     return_state=True, name='SimpleRNN_3')(x)\n",
        "model = Model(inputs=[x], outputs=[y])\n",
        "# SVG形式でモデルを表示\n",
        "SVG( model_to_dot( model, show_shapes=True, dpi=None )\n",
        ".create( prog='dot', format='svg' ) )"
      ],
      "metadata": {
        "colab": {
          "base_uri": "https://localhost:8080/",
          "height": 205
        },
        "id": "MBOxwdeebpoI",
        "outputId": "f6c5bcd4-6084-4026-f7cc-ae1ebceb92ce"
      },
      "execution_count": 6,
      "outputs": [
        {
          "output_type": "execute_result",
          "data": {
            "text/plain": [
              "<IPython.core.display.SVG object>"
            ],
            "image/svg+xml": "<svg xmlns=\"http://www.w3.org/2000/svg\" xmlns:xlink=\"http://www.w3.org/1999/xlink\" width=\"349pt\" height=\"138pt\" viewBox=\"0.00 0.00 348.50 138.00\">\n<g id=\"graph0\" class=\"graph\" transform=\"scale(1 1) rotate(0) translate(4 134)\">\n<title>G</title>\n<polygon fill=\"white\" stroke=\"transparent\" points=\"-4,4 -4,-134 344.5,-134 344.5,4 -4,4\"/>\n<!-- dpi -->\n<g id=\"node1\" class=\"node\">\n<title>dpi</title>\n<ellipse fill=\"none\" stroke=\"black\" cx=\"27\" cy=\"-106.5\" rx=\"27\" ry=\"18\"/>\n<text text-anchor=\"middle\" x=\"27\" y=\"-102.8\" font-family=\"Times,serif\" font-size=\"14.00\">dpi</text>\n</g>\n<!-- 139645666683872 -->\n<g id=\"node2\" class=\"node\">\n<title>139645666683872</title>\n<polygon fill=\"none\" stroke=\"black\" points=\"72.5,-83.5 72.5,-129.5 303.5,-129.5 303.5,-83.5 72.5,-83.5\"/>\n<text text-anchor=\"middle\" x=\"111\" y=\"-114.3\" font-family=\"Times,serif\" font-size=\"14.00\">Input</text>\n<polyline fill=\"none\" stroke=\"black\" points=\"72.5,-106.5 149.5,-106.5 \"/>\n<text text-anchor=\"middle\" x=\"111\" y=\"-91.3\" font-family=\"Times,serif\" font-size=\"14.00\">InputLayer</text>\n<polyline fill=\"none\" stroke=\"black\" points=\"149.5,-83.5 149.5,-129.5 \"/>\n<text text-anchor=\"middle\" x=\"177\" y=\"-114.3\" font-family=\"Times,serif\" font-size=\"14.00\">input:</text>\n<polyline fill=\"none\" stroke=\"black\" points=\"149.5,-106.5 204.5,-106.5 \"/>\n<text text-anchor=\"middle\" x=\"177\" y=\"-91.3\" font-family=\"Times,serif\" font-size=\"14.00\">output:</text>\n<polyline fill=\"none\" stroke=\"black\" points=\"204.5,-83.5 204.5,-129.5 \"/>\n<text text-anchor=\"middle\" x=\"254\" y=\"-114.3\" font-family=\"Times,serif\" font-size=\"14.00\">[(None, 5, 15)]</text>\n<polyline fill=\"none\" stroke=\"black\" points=\"204.5,-106.5 303.5,-106.5 \"/>\n<text text-anchor=\"middle\" x=\"254\" y=\"-91.3\" font-family=\"Times,serif\" font-size=\"14.00\">[(None, 5, 15)]</text>\n</g>\n<!-- 139645591444160 -->\n<g id=\"node3\" class=\"node\">\n<title>139645591444160</title>\n<polygon fill=\"none\" stroke=\"black\" points=\"35.5,-0.5 35.5,-46.5 340.5,-46.5 340.5,-0.5 35.5,-0.5\"/>\n<text text-anchor=\"middle\" x=\"84.5\" y=\"-31.3\" font-family=\"Times,serif\" font-size=\"14.00\">SimpleRNN_3</text>\n<polyline fill=\"none\" stroke=\"black\" points=\"35.5,-23.5 133.5,-23.5 \"/>\n<text text-anchor=\"middle\" x=\"84.5\" y=\"-8.3\" font-family=\"Times,serif\" font-size=\"14.00\">SimpleRNN</text>\n<polyline fill=\"none\" stroke=\"black\" points=\"133.5,-0.5 133.5,-46.5 \"/>\n<text text-anchor=\"middle\" x=\"161\" y=\"-31.3\" font-family=\"Times,serif\" font-size=\"14.00\">input:</text>\n<polyline fill=\"none\" stroke=\"black\" points=\"133.5,-23.5 188.5,-23.5 \"/>\n<text text-anchor=\"middle\" x=\"161\" y=\"-8.3\" font-family=\"Times,serif\" font-size=\"14.00\">output:</text>\n<polyline fill=\"none\" stroke=\"black\" points=\"188.5,-0.5 188.5,-46.5 \"/>\n<text text-anchor=\"middle\" x=\"264.5\" y=\"-31.3\" font-family=\"Times,serif\" font-size=\"14.00\">(None, 5, 15)</text>\n<polyline fill=\"none\" stroke=\"black\" points=\"188.5,-23.5 340.5,-23.5 \"/>\n<text text-anchor=\"middle\" x=\"264.5\" y=\"-8.3\" font-family=\"Times,serif\" font-size=\"14.00\">[(None, 10), (None, 10)]</text>\n</g>\n<!-- 139645666683872&#45;&gt;139645591444160 -->\n<g id=\"edge1\" class=\"edge\">\n<title>139645666683872-&gt;139645591444160</title>\n<path fill=\"none\" stroke=\"black\" d=\"M188,-83.37C188,-75.15 188,-65.66 188,-56.73\"/>\n<polygon fill=\"black\" stroke=\"black\" points=\"191.5,-56.61 188,-46.61 184.5,-56.61 191.5,-56.61\"/>\n</g>\n</g>\n</svg>"
          },
          "metadata": {},
          "execution_count": 6
        }
      ]
    },
    {
      "cell_type": "code",
      "source": [
        "print(\"executed sucessfully\")"
      ],
      "metadata": {
        "id": "oVCT7b6nhO0h",
        "outputId": "82143908-5b62-4d14-f476-5ada9ce526fe",
        "colab": {
          "base_uri": "https://localhost:8080/"
        }
      },
      "execution_count": 7,
      "outputs": [
        {
          "output_type": "stream",
          "name": "stdout",
          "text": [
            "executed sucessfully\n"
          ]
        }
      ]
    },
    {
      "cell_type": "code",
      "source": [],
      "metadata": {
        "id": "dRB31PN76c8A"
      },
      "execution_count": null,
      "outputs": []
    }
  ]
}