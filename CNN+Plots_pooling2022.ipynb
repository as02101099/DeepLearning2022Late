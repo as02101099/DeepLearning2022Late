{
  "nbformat": 4,
  "nbformat_minor": 0,
  "metadata": {
    "colab": {
      "provenance": [],
      "include_colab_link": true
    },
    "kernelspec": {
      "name": "python3",
      "display_name": "Python 3"
    },
    "language_info": {
      "name": "python"
    }
  },
  "cells": [
    {
      "cell_type": "markdown",
      "metadata": {
        "id": "view-in-github",
        "colab_type": "text"
      },
      "source": [
        "<a href=\"https://colab.research.google.com/github/as02101099/DeepLearning2022Late/blob/main/CNN%2BPlots_pooling2022.ipynb\" target=\"_parent\"><img src=\"https://colab.research.google.com/assets/colab-badge.svg\" alt=\"Open In Colab\"/></a>"
      ]
    },
    {
      "cell_type": "markdown",
      "source": [
        "# CNN層（畳み込み層）のついた学習モデルにさらにプーリング層を追加して特徴を抽出する\n",
        "##pooling the cnn model\n"
      ],
      "metadata": {
        "id": "lAiHgvOzF-ER"
      }
    },
    {
      "cell_type": "markdown",
      "source": [
        "## 学習モデルと層のライブラリをimportする"
      ],
      "metadata": {
        "id": "H2F3LcfsGTQG"
      }
    },
    {
      "cell_type": "code",
      "execution_count": 1,
      "metadata": {
        "id": "w4CBdSnpFrLq"
      },
      "outputs": [],
      "source": [
        "from keras.models import Sequential, Model # 学習モデル\n",
        "from keras.layers import Conv2D # 畳み込み層のクラス\n",
        "from keras.layers import MaxPooling2D # プーリング層のクラス"
      ]
    },
    {
      "cell_type": "markdown",
      "source": [
        "#SVG画像表示のライブラリをimport"
      ],
      "metadata": {
        "id": "z7R-kFbBF9WD"
      }
    },
    {
      "cell_type": "code",
      "source": [
        "from IPython.display import SVG\n",
        "from keras.utils.vis_utils import model_to_dot"
      ],
      "metadata": {
        "id": "Fg5nsJNhHTQX"
      },
      "execution_count": 2,
      "outputs": []
    },
    {
      "cell_type": "markdown",
      "source": [
        "## 学習モデルを生成"
      ],
      "metadata": {
        "id": "cvfFcVarHsM7"
      }
    },
    {
      "cell_type": "code",
      "source": [
        "model = Sequential( )"
      ],
      "metadata": {
        "id": "Ykg24qOFHhfv"
      },
      "execution_count": 3,
      "outputs": []
    },
    {
      "cell_type": "markdown",
      "source": [
        "### 学習モデルに畳み込み層（Conv2D）を追加"
      ],
      "metadata": {
        "id": "5a8phUS9IBff"
      }
    },
    {
      "cell_type": "code",
      "source": [
        "model.add(  Conv2D( \n",
        "    filters=3, # フィルター３パターン\n",
        "    kernel_size=(3,3), # 受容野（カーネル）は縦３、横３\n",
        "    input_shape=(6, 6, 1), # 入力画像の形\n",
        "    padding='same', # ゼロパディングをする\n",
        "    # strides=2, # ストライド（カーネルの移動量）\n",
        "    name='Conv2D_1'\n",
        " )  )"
      ],
      "metadata": {
        "id": "cLDGksJmH3R1"
      },
      "execution_count": 4,
      "outputs": []
    },
    {
      "cell_type": "markdown",
      "source": [
        "### 組みたてた学習モデルの形をSVG画像で表示"
      ],
      "metadata": {
        "id": "VGnYAZIIJgY-"
      }
    },
    {
      "cell_type": "code",
      "source": [
        "SVG( model_to_dot( \n",
        "    model,\n",
        "    show_shapes=True,\n",
        "    dpi=None\n",
        " ).create( prog='dot', format='svg' ) )"
      ],
      "metadata": {
        "colab": {
          "base_uri": "https://localhost:8080/",
          "height": 205
        },
        "id": "OHN_BRc-JWsG",
        "outputId": "5a1a000d-1d4a-4c1c-ba4a-a8cd78dc9a12"
      },
      "execution_count": 5,
      "outputs": [
        {
          "output_type": "execute_result",
          "data": {
            "text/plain": [
              "<IPython.core.display.SVG object>"
            ],
            "image/svg+xml": "<svg xmlns=\"http://www.w3.org/2000/svg\" xmlns:xlink=\"http://www.w3.org/1999/xlink\" width=\"368pt\" height=\"138pt\" viewBox=\"0.00 0.00 368.00 138.00\">\n<g id=\"graph0\" class=\"graph\" transform=\"scale(1 1) rotate(0) translate(4 134)\">\n<title>G</title>\n<polygon fill=\"#ffffff\" stroke=\"transparent\" points=\"-4,4 -4,-134 364,-134 364,4 -4,4\"/>\n<!-- dpi -->\n<g id=\"node1\" class=\"node\">\n<title>dpi</title>\n<ellipse fill=\"none\" stroke=\"#000000\" cx=\"27\" cy=\"-106.5\" rx=\"27\" ry=\"18\"/>\n<text text-anchor=\"middle\" x=\"27\" y=\"-102.8\" font-family=\"Times,serif\" font-size=\"14.00\" fill=\"#000000\">dpi</text>\n</g>\n<!-- 140467109698864 -->\n<g id=\"node2\" class=\"node\">\n<title>140467109698864</title>\n<polygon fill=\"none\" stroke=\"#000000\" points=\"72,-83.5 72,-129.5 360,-129.5 360,-83.5 72,-83.5\"/>\n<text text-anchor=\"middle\" x=\"131.5\" y=\"-114.3\" font-family=\"Times,serif\" font-size=\"14.00\" fill=\"#000000\">Conv2D_1_input</text>\n<polyline fill=\"none\" stroke=\"#000000\" points=\"72,-106.5 191,-106.5 \"/>\n<text text-anchor=\"middle\" x=\"131.5\" y=\"-91.3\" font-family=\"Times,serif\" font-size=\"14.00\" fill=\"#000000\">InputLayer</text>\n<polyline fill=\"none\" stroke=\"#000000\" points=\"191,-83.5 191,-129.5 \"/>\n<text text-anchor=\"middle\" x=\"220\" y=\"-114.3\" font-family=\"Times,serif\" font-size=\"14.00\" fill=\"#000000\">input:</text>\n<polyline fill=\"none\" stroke=\"#000000\" points=\"191,-106.5 249,-106.5 \"/>\n<text text-anchor=\"middle\" x=\"220\" y=\"-91.3\" font-family=\"Times,serif\" font-size=\"14.00\" fill=\"#000000\">output:</text>\n<polyline fill=\"none\" stroke=\"#000000\" points=\"249,-83.5 249,-129.5 \"/>\n<text text-anchor=\"middle\" x=\"304.5\" y=\"-114.3\" font-family=\"Times,serif\" font-size=\"14.00\" fill=\"#000000\">[(None, 6, 6, 1)]</text>\n<polyline fill=\"none\" stroke=\"#000000\" points=\"249,-106.5 360,-106.5 \"/>\n<text text-anchor=\"middle\" x=\"304.5\" y=\"-91.3\" font-family=\"Times,serif\" font-size=\"14.00\" fill=\"#000000\">[(None, 6, 6, 1)]</text>\n</g>\n<!-- 140467109698144 -->\n<g id=\"node3\" class=\"node\">\n<title>140467109698144</title>\n<polygon fill=\"none\" stroke=\"#000000\" points=\"95,-.5 95,-46.5 337,-46.5 337,-.5 95,-.5\"/>\n<text text-anchor=\"middle\" x=\"136\" y=\"-31.3\" font-family=\"Times,serif\" font-size=\"14.00\" fill=\"#000000\">Conv2D_1</text>\n<polyline fill=\"none\" stroke=\"#000000\" points=\"95,-23.5 177,-23.5 \"/>\n<text text-anchor=\"middle\" x=\"136\" y=\"-8.3\" font-family=\"Times,serif\" font-size=\"14.00\" fill=\"#000000\">Conv2D</text>\n<polyline fill=\"none\" stroke=\"#000000\" points=\"177,-.5 177,-46.5 \"/>\n<text text-anchor=\"middle\" x=\"206\" y=\"-31.3\" font-family=\"Times,serif\" font-size=\"14.00\" fill=\"#000000\">input:</text>\n<polyline fill=\"none\" stroke=\"#000000\" points=\"177,-23.5 235,-23.5 \"/>\n<text text-anchor=\"middle\" x=\"206\" y=\"-8.3\" font-family=\"Times,serif\" font-size=\"14.00\" fill=\"#000000\">output:</text>\n<polyline fill=\"none\" stroke=\"#000000\" points=\"235,-.5 235,-46.5 \"/>\n<text text-anchor=\"middle\" x=\"286\" y=\"-31.3\" font-family=\"Times,serif\" font-size=\"14.00\" fill=\"#000000\">(None, 6, 6, 1)</text>\n<polyline fill=\"none\" stroke=\"#000000\" points=\"235,-23.5 337,-23.5 \"/>\n<text text-anchor=\"middle\" x=\"286\" y=\"-8.3\" font-family=\"Times,serif\" font-size=\"14.00\" fill=\"#000000\">(None, 6, 6, 3)</text>\n</g>\n<!-- 140467109698864&#45;&gt;140467109698144 -->\n<g id=\"edge1\" class=\"edge\">\n<title>140467109698864-&gt;140467109698144</title>\n<path fill=\"none\" stroke=\"#000000\" d=\"M216,-83.3799C216,-75.1745 216,-65.7679 216,-56.8786\"/>\n<polygon fill=\"#000000\" stroke=\"#000000\" points=\"219.5001,-56.784 216,-46.784 212.5001,-56.784 219.5001,-56.784\"/>\n</g>\n</g>\n</svg>"
          },
          "metadata": {},
          "execution_count": 5
        }
      ]
    },
    {
      "cell_type": "markdown",
      "source": [
        "## 畳み込み層の学習モデルに、プーリング層を追加する"
      ],
      "metadata": {
        "id": "i5Y387LkKq61"
      }
    },
    {
      "cell_type": "code",
      "source": [
        "model.add( MaxPooling2D( pool_size=(2,2), name='MaxPooling2D_1' ) )"
      ],
      "metadata": {
        "id": "EJg7k76MKJON"
      },
      "execution_count": 6,
      "outputs": []
    },
    {
      "cell_type": "markdown",
      "source": [
        "## プーリング層を追加した学習モデルの形をSVG画像表示"
      ],
      "metadata": {
        "id": "jajw2S5tLjvp"
      }
    },
    {
      "cell_type": "code",
      "source": [
        "SVG( model_to_dot( \n",
        "    model,\n",
        "    show_shapes='True',\n",
        "    dpi=None ).create( prog='dot', format='svg' )  )"
      ],
      "metadata": {
        "colab": {
          "base_uri": "https://localhost:8080/",
          "height": 316
        },
        "id": "ar9EPAhjLLAG",
        "outputId": "9b91bc0d-dc15-48dc-d109-84e32d2d01a3"
      },
      "execution_count": 7,
      "outputs": [
        {
          "output_type": "execute_result",
          "data": {
            "text/plain": [
              "<IPython.core.display.SVG object>"
            ],
            "image/svg+xml": "<svg xmlns=\"http://www.w3.org/2000/svg\" xmlns:xlink=\"http://www.w3.org/1999/xlink\" width=\"368pt\" height=\"221pt\" viewBox=\"0.00 0.00 368.00 221.00\">\n<g id=\"graph0\" class=\"graph\" transform=\"scale(1 1) rotate(0) translate(4 217)\">\n<title>G</title>\n<polygon fill=\"#ffffff\" stroke=\"transparent\" points=\"-4,4 -4,-217 364,-217 364,4 -4,4\"/>\n<!-- dpi -->\n<g id=\"node1\" class=\"node\">\n<title>dpi</title>\n<ellipse fill=\"none\" stroke=\"#000000\" cx=\"27\" cy=\"-189.5\" rx=\"27\" ry=\"18\"/>\n<text text-anchor=\"middle\" x=\"27\" y=\"-185.8\" font-family=\"Times,serif\" font-size=\"14.00\" fill=\"#000000\">dpi</text>\n</g>\n<!-- 140467109698864 -->\n<g id=\"node2\" class=\"node\">\n<title>140467109698864</title>\n<polygon fill=\"none\" stroke=\"#000000\" points=\"72,-166.5 72,-212.5 360,-212.5 360,-166.5 72,-166.5\"/>\n<text text-anchor=\"middle\" x=\"131.5\" y=\"-197.3\" font-family=\"Times,serif\" font-size=\"14.00\" fill=\"#000000\">Conv2D_1_input</text>\n<polyline fill=\"none\" stroke=\"#000000\" points=\"72,-189.5 191,-189.5 \"/>\n<text text-anchor=\"middle\" x=\"131.5\" y=\"-174.3\" font-family=\"Times,serif\" font-size=\"14.00\" fill=\"#000000\">InputLayer</text>\n<polyline fill=\"none\" stroke=\"#000000\" points=\"191,-166.5 191,-212.5 \"/>\n<text text-anchor=\"middle\" x=\"220\" y=\"-197.3\" font-family=\"Times,serif\" font-size=\"14.00\" fill=\"#000000\">input:</text>\n<polyline fill=\"none\" stroke=\"#000000\" points=\"191,-189.5 249,-189.5 \"/>\n<text text-anchor=\"middle\" x=\"220\" y=\"-174.3\" font-family=\"Times,serif\" font-size=\"14.00\" fill=\"#000000\">output:</text>\n<polyline fill=\"none\" stroke=\"#000000\" points=\"249,-166.5 249,-212.5 \"/>\n<text text-anchor=\"middle\" x=\"304.5\" y=\"-197.3\" font-family=\"Times,serif\" font-size=\"14.00\" fill=\"#000000\">[(None, 6, 6, 1)]</text>\n<polyline fill=\"none\" stroke=\"#000000\" points=\"249,-189.5 360,-189.5 \"/>\n<text text-anchor=\"middle\" x=\"304.5\" y=\"-174.3\" font-family=\"Times,serif\" font-size=\"14.00\" fill=\"#000000\">[(None, 6, 6, 1)]</text>\n</g>\n<!-- 140467109698144 -->\n<g id=\"node3\" class=\"node\">\n<title>140467109698144</title>\n<polygon fill=\"none\" stroke=\"#000000\" points=\"95,-83.5 95,-129.5 337,-129.5 337,-83.5 95,-83.5\"/>\n<text text-anchor=\"middle\" x=\"136\" y=\"-114.3\" font-family=\"Times,serif\" font-size=\"14.00\" fill=\"#000000\">Conv2D_1</text>\n<polyline fill=\"none\" stroke=\"#000000\" points=\"95,-106.5 177,-106.5 \"/>\n<text text-anchor=\"middle\" x=\"136\" y=\"-91.3\" font-family=\"Times,serif\" font-size=\"14.00\" fill=\"#000000\">Conv2D</text>\n<polyline fill=\"none\" stroke=\"#000000\" points=\"177,-83.5 177,-129.5 \"/>\n<text text-anchor=\"middle\" x=\"206\" y=\"-114.3\" font-family=\"Times,serif\" font-size=\"14.00\" fill=\"#000000\">input:</text>\n<polyline fill=\"none\" stroke=\"#000000\" points=\"177,-106.5 235,-106.5 \"/>\n<text text-anchor=\"middle\" x=\"206\" y=\"-91.3\" font-family=\"Times,serif\" font-size=\"14.00\" fill=\"#000000\">output:</text>\n<polyline fill=\"none\" stroke=\"#000000\" points=\"235,-83.5 235,-129.5 \"/>\n<text text-anchor=\"middle\" x=\"286\" y=\"-114.3\" font-family=\"Times,serif\" font-size=\"14.00\" fill=\"#000000\">(None, 6, 6, 1)</text>\n<polyline fill=\"none\" stroke=\"#000000\" points=\"235,-106.5 337,-106.5 \"/>\n<text text-anchor=\"middle\" x=\"286\" y=\"-91.3\" font-family=\"Times,serif\" font-size=\"14.00\" fill=\"#000000\">(None, 6, 6, 3)</text>\n</g>\n<!-- 140467109698864&#45;&gt;140467109698144 -->\n<g id=\"edge1\" class=\"edge\">\n<title>140467109698864-&gt;140467109698144</title>\n<path fill=\"none\" stroke=\"#000000\" d=\"M216,-166.3799C216,-158.1745 216,-148.7679 216,-139.8786\"/>\n<polygon fill=\"#000000\" stroke=\"#000000\" points=\"219.5001,-139.784 216,-129.784 212.5001,-139.784 219.5001,-139.784\"/>\n</g>\n<!-- 140467109697856 -->\n<g id=\"node4\" class=\"node\">\n<title>140467109697856</title>\n<polygon fill=\"none\" stroke=\"#000000\" points=\"75,-.5 75,-46.5 357,-46.5 357,-.5 75,-.5\"/>\n<text text-anchor=\"middle\" x=\"136\" y=\"-31.3\" font-family=\"Times,serif\" font-size=\"14.00\" fill=\"#000000\">MaxPooling2D_1</text>\n<polyline fill=\"none\" stroke=\"#000000\" points=\"75,-23.5 197,-23.5 \"/>\n<text text-anchor=\"middle\" x=\"136\" y=\"-8.3\" font-family=\"Times,serif\" font-size=\"14.00\" fill=\"#000000\">MaxPooling2D</text>\n<polyline fill=\"none\" stroke=\"#000000\" points=\"197,-.5 197,-46.5 \"/>\n<text text-anchor=\"middle\" x=\"226\" y=\"-31.3\" font-family=\"Times,serif\" font-size=\"14.00\" fill=\"#000000\">input:</text>\n<polyline fill=\"none\" stroke=\"#000000\" points=\"197,-23.5 255,-23.5 \"/>\n<text text-anchor=\"middle\" x=\"226\" y=\"-8.3\" font-family=\"Times,serif\" font-size=\"14.00\" fill=\"#000000\">output:</text>\n<polyline fill=\"none\" stroke=\"#000000\" points=\"255,-.5 255,-46.5 \"/>\n<text text-anchor=\"middle\" x=\"306\" y=\"-31.3\" font-family=\"Times,serif\" font-size=\"14.00\" fill=\"#000000\">(None, 6, 6, 3)</text>\n<polyline fill=\"none\" stroke=\"#000000\" points=\"255,-23.5 357,-23.5 \"/>\n<text text-anchor=\"middle\" x=\"306\" y=\"-8.3\" font-family=\"Times,serif\" font-size=\"14.00\" fill=\"#000000\">(None, 3, 3, 3)</text>\n</g>\n<!-- 140467109698144&#45;&gt;140467109697856 -->\n<g id=\"edge2\" class=\"edge\">\n<title>140467109698144-&gt;140467109697856</title>\n<path fill=\"none\" stroke=\"#000000\" d=\"M216,-83.3799C216,-75.1745 216,-65.7679 216,-56.8786\"/>\n<polygon fill=\"#000000\" stroke=\"#000000\" points=\"219.5001,-56.784 216,-46.784 212.5001,-56.784 219.5001,-56.784\"/>\n</g>\n</g>\n</svg>"
          },
          "metadata": {},
          "execution_count": 7
        }
      ]
    },
    {
      "cell_type": "code",
      "source": [
        "print('complete')"
      ],
      "metadata": {
        "id": "voG692aAMM9B",
        "outputId": "06c0010b-0f30-4b79-e15a-8d63302b40a7",
        "colab": {
          "base_uri": "https://localhost:8080/"
        }
      },
      "execution_count": 8,
      "outputs": [
        {
          "output_type": "stream",
          "name": "stdout",
          "text": [
            "complete\n"
          ]
        }
      ]
    },
    {
      "cell_type": "code",
      "source": [],
      "metadata": {
        "id": "jwE23weehJZU"
      },
      "execution_count": null,
      "outputs": []
    }
  ]
}