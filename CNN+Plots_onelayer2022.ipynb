{
  "nbformat": 4,
  "nbformat_minor": 0,
  "metadata": {
    "colab": {
      "provenance": [],
      "include_colab_link": true
    },
    "kernelspec": {
      "name": "python3",
      "display_name": "Python 3"
    },
    "language_info": {
      "name": "python"
    }
  },
  "cells": [
    {
      "cell_type": "markdown",
      "metadata": {
        "id": "view-in-github",
        "colab_type": "text"
      },
      "source": [
        "<a href=\"https://colab.research.google.com/github/as02101099/DeepLearning2022Late/blob/main/CNN%2BPlots_onelayer2022.ipynb\" target=\"_parent\"><img src=\"https://colab.research.google.com/assets/colab-badge.svg\" alt=\"Open In Colab\"/></a>"
      ]
    },
    {
      "cell_type": "markdown",
      "source": [
        "\n",
        "# CNNの練習（Keras Conv2D）\n",
        "\n",
        "Practicing CNN mode;\n",
        "convolutional Neural Netwok\n",
        "畳み込み層が１つの例"
      ],
      "metadata": {
        "id": "MyWQaVASHfwj"
      }
    },
    {
      "cell_type": "markdown",
      "source": [
        "## ライブラリのimport"
      ],
      "metadata": {
        "id": "yFPhdQQNICHf"
      }
    },
    {
      "cell_type": "code",
      "source": [
        "# CNN node 1layer\n",
        "# Conv2Dを使ったCNNの例\n",
        "from keras.models import Sequential, Model\n",
        "from keras.layers import Conv2D # 畳み込み層のクラスモジュール\n",
        "# from keras.utils import np_utils"
      ],
      "metadata": {
        "id": "iXSz0kxtIBEK"
      },
      "execution_count": 2,
      "outputs": []
    },
    {
      "cell_type": "markdown",
      "source": [
        "## SVG画像の表示用のライブラリのimport"
      ],
      "metadata": {
        "id": "n2RnNMGuJgab"
      }
    },
    {
      "cell_type": "code",
      "source": [
        "from IPython.display import SVG\n",
        "from keras.utils.vis_utils import model_to_dot"
      ],
      "metadata": {
        "id": "l2h73MwPJXCS"
      },
      "execution_count": 3,
      "outputs": []
    },
    {
      "cell_type": "markdown",
      "source": [
        "### CNN（畳み込みニューラルネットワーク）のモデルをConv2Dライブラリを使って作成"
      ],
      "metadata": {
        "id": "jMF3hCDzKDzx"
      }
    },
    {
      "cell_type": "code",
      "source": [
        "model = Sequential( ) #インスタンスを生成\n",
        "# CNN畳み込み層を１層追加するする\n",
        "model.add( Conv2D( filters=3, # フィルターのニューロンを３パターン\n",
        "                  kernel_size=(3,3), # 受容野の大きさ（幅３、縦３）\n",
        "                  input_shape=(6,6,1),\n",
        "                  name='Conv2D_1'\n",
        "                  ) )"
      ],
      "metadata": {
        "id": "UqJZ7wZHJ2jR"
      },
      "execution_count": 4,
      "outputs": []
    },
    {
      "cell_type": "markdown",
      "source": [
        "### SVG画像で作成したモデルの構成を表示\n",
        "CNN（畳み込み）で特徴を抜き出すだけのモデルの状態です"
      ],
      "metadata": {
        "id": "vmuYRm-yMrxY"
      }
    },
    {
      "cell_type": "code",
      "source": [
        "SVG( model_to_dot( model, show_shapes=True, dpi=None ).create( prog='dot', format='svg') )"
      ],
      "metadata": {
        "colab": {
          "base_uri": "https://localhost:8080/",
          "height": 205
        },
        "id": "6xaFZlxJMNrY",
        "outputId": "11098cba-f0ba-48ad-c982-0c966706612c"
      },
      "execution_count": 5,
      "outputs": [
        {
          "output_type": "execute_result",
          "data": {
            "text/plain": [
              "<IPython.core.display.SVG object>"
            ],
            "image/svg+xml": "<svg xmlns=\"http://www.w3.org/2000/svg\" xmlns:xlink=\"http://www.w3.org/1999/xlink\" width=\"368pt\" height=\"138pt\" viewBox=\"0.00 0.00 368.00 138.00\">\n<g id=\"graph0\" class=\"graph\" transform=\"scale(1 1) rotate(0) translate(4 134)\">\n<title>G</title>\n<polygon fill=\"#ffffff\" stroke=\"transparent\" points=\"-4,4 -4,-134 364,-134 364,4 -4,4\"/>\n<!-- dpi -->\n<g id=\"node1\" class=\"node\">\n<title>dpi</title>\n<ellipse fill=\"none\" stroke=\"#000000\" cx=\"27\" cy=\"-106.5\" rx=\"27\" ry=\"18\"/>\n<text text-anchor=\"middle\" x=\"27\" y=\"-102.8\" font-family=\"Times,serif\" font-size=\"14.00\" fill=\"#000000\">dpi</text>\n</g>\n<!-- 140527708911408 -->\n<g id=\"node2\" class=\"node\">\n<title>140527708911408</title>\n<polygon fill=\"none\" stroke=\"#000000\" points=\"72,-83.5 72,-129.5 360,-129.5 360,-83.5 72,-83.5\"/>\n<text text-anchor=\"middle\" x=\"131.5\" y=\"-114.3\" font-family=\"Times,serif\" font-size=\"14.00\" fill=\"#000000\">Conv2D_1_input</text>\n<polyline fill=\"none\" stroke=\"#000000\" points=\"72,-106.5 191,-106.5 \"/>\n<text text-anchor=\"middle\" x=\"131.5\" y=\"-91.3\" font-family=\"Times,serif\" font-size=\"14.00\" fill=\"#000000\">InputLayer</text>\n<polyline fill=\"none\" stroke=\"#000000\" points=\"191,-83.5 191,-129.5 \"/>\n<text text-anchor=\"middle\" x=\"220\" y=\"-114.3\" font-family=\"Times,serif\" font-size=\"14.00\" fill=\"#000000\">input:</text>\n<polyline fill=\"none\" stroke=\"#000000\" points=\"191,-106.5 249,-106.5 \"/>\n<text text-anchor=\"middle\" x=\"220\" y=\"-91.3\" font-family=\"Times,serif\" font-size=\"14.00\" fill=\"#000000\">output:</text>\n<polyline fill=\"none\" stroke=\"#000000\" points=\"249,-83.5 249,-129.5 \"/>\n<text text-anchor=\"middle\" x=\"304.5\" y=\"-114.3\" font-family=\"Times,serif\" font-size=\"14.00\" fill=\"#000000\">[(None, 6, 6, 1)]</text>\n<polyline fill=\"none\" stroke=\"#000000\" points=\"249,-106.5 360,-106.5 \"/>\n<text text-anchor=\"middle\" x=\"304.5\" y=\"-91.3\" font-family=\"Times,serif\" font-size=\"14.00\" fill=\"#000000\">[(None, 6, 6, 1)]</text>\n</g>\n<!-- 140527708911504 -->\n<g id=\"node3\" class=\"node\">\n<title>140527708911504</title>\n<polygon fill=\"none\" stroke=\"#000000\" points=\"95,-.5 95,-46.5 337,-46.5 337,-.5 95,-.5\"/>\n<text text-anchor=\"middle\" x=\"136\" y=\"-31.3\" font-family=\"Times,serif\" font-size=\"14.00\" fill=\"#000000\">Conv2D_1</text>\n<polyline fill=\"none\" stroke=\"#000000\" points=\"95,-23.5 177,-23.5 \"/>\n<text text-anchor=\"middle\" x=\"136\" y=\"-8.3\" font-family=\"Times,serif\" font-size=\"14.00\" fill=\"#000000\">Conv2D</text>\n<polyline fill=\"none\" stroke=\"#000000\" points=\"177,-.5 177,-46.5 \"/>\n<text text-anchor=\"middle\" x=\"206\" y=\"-31.3\" font-family=\"Times,serif\" font-size=\"14.00\" fill=\"#000000\">input:</text>\n<polyline fill=\"none\" stroke=\"#000000\" points=\"177,-23.5 235,-23.5 \"/>\n<text text-anchor=\"middle\" x=\"206\" y=\"-8.3\" font-family=\"Times,serif\" font-size=\"14.00\" fill=\"#000000\">output:</text>\n<polyline fill=\"none\" stroke=\"#000000\" points=\"235,-.5 235,-46.5 \"/>\n<text text-anchor=\"middle\" x=\"286\" y=\"-31.3\" font-family=\"Times,serif\" font-size=\"14.00\" fill=\"#000000\">(None, 6, 6, 1)</text>\n<polyline fill=\"none\" stroke=\"#000000\" points=\"235,-23.5 337,-23.5 \"/>\n<text text-anchor=\"middle\" x=\"286\" y=\"-8.3\" font-family=\"Times,serif\" font-size=\"14.00\" fill=\"#000000\">(None, 4, 4, 3)</text>\n</g>\n<!-- 140527708911408&#45;&gt;140527708911504 -->\n<g id=\"edge1\" class=\"edge\">\n<title>140527708911408-&gt;140527708911504</title>\n<path fill=\"none\" stroke=\"#000000\" d=\"M216,-83.3799C216,-75.1745 216,-65.7679 216,-56.8786\"/>\n<polygon fill=\"#000000\" stroke=\"#000000\" points=\"219.5001,-56.784 216,-46.784 212.5001,-56.784 219.5001,-56.784\"/>\n</g>\n</g>\n</svg>"
          },
          "metadata": {},
          "execution_count": 5
        }
      ]
    },
    {
      "cell_type": "code",
      "source": [
        "#complete\n"
      ],
      "metadata": {
        "id": "IJiNIVAyVb8K"
      },
      "execution_count": 6,
      "outputs": []
    },
    {
      "cell_type": "code",
      "source": [],
      "metadata": {
        "id": "tvDGUJcqgt2P"
      },
      "execution_count": null,
      "outputs": []
    }
  ]
}