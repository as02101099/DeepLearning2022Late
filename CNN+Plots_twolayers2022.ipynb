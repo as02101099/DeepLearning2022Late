{
  "nbformat": 4,
  "nbformat_minor": 0,
  "metadata": {
    "colab": {
      "provenance": [],
      "include_colab_link": true
    },
    "kernelspec": {
      "name": "python3",
      "display_name": "Python 3"
    },
    "language_info": {
      "name": "python"
    }
  },
  "cells": [
    {
      "cell_type": "markdown",
      "metadata": {
        "id": "view-in-github",
        "colab_type": "text"
      },
      "source": [
        "<a href=\"https://colab.research.google.com/github/as02101099/DeepLearning2022Late/blob/main/CNN%2BPlots_twolayers2022.ipynb\" target=\"_parent\"><img src=\"https://colab.research.google.com/assets/colab-badge.svg\" alt=\"Open In Colab\"/></a>"
      ]
    },
    {
      "cell_type": "markdown",
      "source": [
        "# CNNの練習（Keras Conv2D）\n",
        "convolutional Neural Netwok\n",
        "畳み込み層が2つの例"
      ],
      "metadata": {
        "id": "MyWQaVASHfwj"
      }
    },
    {
      "cell_type": "markdown",
      "source": [
        "## ライブラリのimport"
      ],
      "metadata": {
        "id": "yFPhdQQNICHf"
      }
    },
    {
      "cell_type": "code",
      "source": [
        "# CNN node 1layer\n",
        "# Conv2Dを使ったCNNの例\n",
        "from keras.models import Sequential, Model\n",
        "from keras.layers import Conv2D # 畳み込み層のクラスモジュール\n",
        "# from keras.utils import np_utils"
      ],
      "metadata": {
        "id": "iXSz0kxtIBEK"
      },
      "execution_count": 2,
      "outputs": []
    },
    {
      "cell_type": "markdown",
      "source": [
        "## SVG画像の表示用のライブラリのimport"
      ],
      "metadata": {
        "id": "n2RnNMGuJgab"
      }
    },
    {
      "cell_type": "code",
      "source": [
        "from IPython.display import SVG\n",
        "from keras.utils.vis_utils import model_to_dot"
      ],
      "metadata": {
        "id": "l2h73MwPJXCS"
      },
      "execution_count": 3,
      "outputs": []
    },
    {
      "cell_type": "markdown",
      "source": [
        "### CNN（畳み込みニューラルネットワーク）のモデルをConv2Dライブラリを使って作成"
      ],
      "metadata": {
        "id": "jMF3hCDzKDzx"
      }
    },
    {
      "cell_type": "code",
      "source": [
        "model = Sequential( ) #インスタンスを生成\n",
        "# CNN畳み込み層を１層追加するする\n",
        "model.add( Conv2D( filters=3, # フィルターのニューロンを３パターン\n",
        "                  kernel_size=(3,3), # 受容野の大きさ（幅３、縦３）\n",
        "                  input_shape=(6,6,1),\n",
        "                  name='Conv2D_1'\n",
        "                  ) )"
      ],
      "metadata": {
        "id": "UqJZ7wZHJ2jR"
      },
      "execution_count": 4,
      "outputs": []
    },
    {
      "cell_type": "markdown",
      "source": [
        "### 2つめの畳み込み層を追加"
      ],
      "metadata": {
        "id": "bwP-wiILSDlv"
      }
    },
    {
      "cell_type": "code",
      "source": [
        "model.add( Conv2D( filters=2,\n",
        "                  kernel_size=(3,3),\n",
        "                  name='Conv2D_2') )"
      ],
      "metadata": {
        "id": "E3DqvFVlSAmZ"
      },
      "execution_count": 5,
      "outputs": []
    },
    {
      "cell_type": "markdown",
      "source": [
        "### SVG画像で作成したモデルの構成を表示\n",
        "CNN（畳み込み）で特徴を抜き出すだけのモデルの状態です"
      ],
      "metadata": {
        "id": "vmuYRm-yMrxY"
      }
    },
    {
      "cell_type": "code",
      "source": [
        "SVG( model_to_dot( model, show_shapes=True, dpi=None ).create( prog='dot', format='svg' ) )\n"
      ],
      "metadata": {
        "colab": {
          "base_uri": "https://localhost:8080/",
          "height": 316
        },
        "id": "6xaFZlxJMNrY",
        "outputId": "7b88fe50-10df-462e-aa9f-32b6d1005107"
      },
      "execution_count": 6,
      "outputs": [
        {
          "output_type": "execute_result",
          "data": {
            "text/plain": [
              "<IPython.core.display.SVG object>"
            ],
            "image/svg+xml": "<svg xmlns=\"http://www.w3.org/2000/svg\" xmlns:xlink=\"http://www.w3.org/1999/xlink\" width=\"368pt\" height=\"221pt\" viewBox=\"0.00 0.00 368.00 221.00\">\n<g id=\"graph0\" class=\"graph\" transform=\"scale(1 1) rotate(0) translate(4 217)\">\n<title>G</title>\n<polygon fill=\"#ffffff\" stroke=\"transparent\" points=\"-4,4 -4,-217 364,-217 364,4 -4,4\"/>\n<!-- dpi -->\n<g id=\"node1\" class=\"node\">\n<title>dpi</title>\n<ellipse fill=\"none\" stroke=\"#000000\" cx=\"27\" cy=\"-189.5\" rx=\"27\" ry=\"18\"/>\n<text text-anchor=\"middle\" x=\"27\" y=\"-185.8\" font-family=\"Times,serif\" font-size=\"14.00\" fill=\"#000000\">dpi</text>\n</g>\n<!-- 140064633465008 -->\n<g id=\"node2\" class=\"node\">\n<title>140064633465008</title>\n<polygon fill=\"none\" stroke=\"#000000\" points=\"72,-166.5 72,-212.5 360,-212.5 360,-166.5 72,-166.5\"/>\n<text text-anchor=\"middle\" x=\"131.5\" y=\"-197.3\" font-family=\"Times,serif\" font-size=\"14.00\" fill=\"#000000\">Conv2D_1_input</text>\n<polyline fill=\"none\" stroke=\"#000000\" points=\"72,-189.5 191,-189.5 \"/>\n<text text-anchor=\"middle\" x=\"131.5\" y=\"-174.3\" font-family=\"Times,serif\" font-size=\"14.00\" fill=\"#000000\">InputLayer</text>\n<polyline fill=\"none\" stroke=\"#000000\" points=\"191,-166.5 191,-212.5 \"/>\n<text text-anchor=\"middle\" x=\"220\" y=\"-197.3\" font-family=\"Times,serif\" font-size=\"14.00\" fill=\"#000000\">input:</text>\n<polyline fill=\"none\" stroke=\"#000000\" points=\"191,-189.5 249,-189.5 \"/>\n<text text-anchor=\"middle\" x=\"220\" y=\"-174.3\" font-family=\"Times,serif\" font-size=\"14.00\" fill=\"#000000\">output:</text>\n<polyline fill=\"none\" stroke=\"#000000\" points=\"249,-166.5 249,-212.5 \"/>\n<text text-anchor=\"middle\" x=\"304.5\" y=\"-197.3\" font-family=\"Times,serif\" font-size=\"14.00\" fill=\"#000000\">[(None, 6, 6, 1)]</text>\n<polyline fill=\"none\" stroke=\"#000000\" points=\"249,-189.5 360,-189.5 \"/>\n<text text-anchor=\"middle\" x=\"304.5\" y=\"-174.3\" font-family=\"Times,serif\" font-size=\"14.00\" fill=\"#000000\">[(None, 6, 6, 1)]</text>\n</g>\n<!-- 140064633465104 -->\n<g id=\"node3\" class=\"node\">\n<title>140064633465104</title>\n<polygon fill=\"none\" stroke=\"#000000\" points=\"95,-83.5 95,-129.5 337,-129.5 337,-83.5 95,-83.5\"/>\n<text text-anchor=\"middle\" x=\"136\" y=\"-114.3\" font-family=\"Times,serif\" font-size=\"14.00\" fill=\"#000000\">Conv2D_1</text>\n<polyline fill=\"none\" stroke=\"#000000\" points=\"95,-106.5 177,-106.5 \"/>\n<text text-anchor=\"middle\" x=\"136\" y=\"-91.3\" font-family=\"Times,serif\" font-size=\"14.00\" fill=\"#000000\">Conv2D</text>\n<polyline fill=\"none\" stroke=\"#000000\" points=\"177,-83.5 177,-129.5 \"/>\n<text text-anchor=\"middle\" x=\"206\" y=\"-114.3\" font-family=\"Times,serif\" font-size=\"14.00\" fill=\"#000000\">input:</text>\n<polyline fill=\"none\" stroke=\"#000000\" points=\"177,-106.5 235,-106.5 \"/>\n<text text-anchor=\"middle\" x=\"206\" y=\"-91.3\" font-family=\"Times,serif\" font-size=\"14.00\" fill=\"#000000\">output:</text>\n<polyline fill=\"none\" stroke=\"#000000\" points=\"235,-83.5 235,-129.5 \"/>\n<text text-anchor=\"middle\" x=\"286\" y=\"-114.3\" font-family=\"Times,serif\" font-size=\"14.00\" fill=\"#000000\">(None, 6, 6, 1)</text>\n<polyline fill=\"none\" stroke=\"#000000\" points=\"235,-106.5 337,-106.5 \"/>\n<text text-anchor=\"middle\" x=\"286\" y=\"-91.3\" font-family=\"Times,serif\" font-size=\"14.00\" fill=\"#000000\">(None, 4, 4, 3)</text>\n</g>\n<!-- 140064633465008&#45;&gt;140064633465104 -->\n<g id=\"edge1\" class=\"edge\">\n<title>140064633465008-&gt;140064633465104</title>\n<path fill=\"none\" stroke=\"#000000\" d=\"M216,-166.3799C216,-158.1745 216,-148.7679 216,-139.8786\"/>\n<polygon fill=\"#000000\" stroke=\"#000000\" points=\"219.5001,-139.784 216,-129.784 212.5001,-139.784 219.5001,-139.784\"/>\n</g>\n<!-- 140064560151520 -->\n<g id=\"node4\" class=\"node\">\n<title>140064560151520</title>\n<polygon fill=\"none\" stroke=\"#000000\" points=\"95,-.5 95,-46.5 337,-46.5 337,-.5 95,-.5\"/>\n<text text-anchor=\"middle\" x=\"136\" y=\"-31.3\" font-family=\"Times,serif\" font-size=\"14.00\" fill=\"#000000\">Conv2D_2</text>\n<polyline fill=\"none\" stroke=\"#000000\" points=\"95,-23.5 177,-23.5 \"/>\n<text text-anchor=\"middle\" x=\"136\" y=\"-8.3\" font-family=\"Times,serif\" font-size=\"14.00\" fill=\"#000000\">Conv2D</text>\n<polyline fill=\"none\" stroke=\"#000000\" points=\"177,-.5 177,-46.5 \"/>\n<text text-anchor=\"middle\" x=\"206\" y=\"-31.3\" font-family=\"Times,serif\" font-size=\"14.00\" fill=\"#000000\">input:</text>\n<polyline fill=\"none\" stroke=\"#000000\" points=\"177,-23.5 235,-23.5 \"/>\n<text text-anchor=\"middle\" x=\"206\" y=\"-8.3\" font-family=\"Times,serif\" font-size=\"14.00\" fill=\"#000000\">output:</text>\n<polyline fill=\"none\" stroke=\"#000000\" points=\"235,-.5 235,-46.5 \"/>\n<text text-anchor=\"middle\" x=\"286\" y=\"-31.3\" font-family=\"Times,serif\" font-size=\"14.00\" fill=\"#000000\">(None, 4, 4, 3)</text>\n<polyline fill=\"none\" stroke=\"#000000\" points=\"235,-23.5 337,-23.5 \"/>\n<text text-anchor=\"middle\" x=\"286\" y=\"-8.3\" font-family=\"Times,serif\" font-size=\"14.00\" fill=\"#000000\">(None, 2, 2, 2)</text>\n</g>\n<!-- 140064633465104&#45;&gt;140064560151520 -->\n<g id=\"edge2\" class=\"edge\">\n<title>140064633465104-&gt;140064560151520</title>\n<path fill=\"none\" stroke=\"#000000\" d=\"M216,-83.3799C216,-75.1745 216,-65.7679 216,-56.8786\"/>\n<polygon fill=\"#000000\" stroke=\"#000000\" points=\"219.5001,-56.784 216,-46.784 212.5001,-56.784 219.5001,-56.784\"/>\n</g>\n</g>\n</svg>"
          },
          "metadata": {},
          "execution_count": 6
        }
      ]
    },
    {
      "cell_type": "code",
      "source": [
        "print(\"completed sucessfully\")"
      ],
      "metadata": {
        "id": "3HwKG9j7NeRg",
        "outputId": "b0e4aa3b-57de-460e-acea-d30ecdf7a64c",
        "colab": {
          "base_uri": "https://localhost:8080/"
        }
      },
      "execution_count": 7,
      "outputs": [
        {
          "output_type": "stream",
          "name": "stdout",
          "text": [
            "completed sucessfully\n"
          ]
        }
      ]
    },
    {
      "cell_type": "code",
      "source": [],
      "metadata": {
        "id": "607dJhZNhsH_"
      },
      "execution_count": 1,
      "outputs": []
    }
  ]
}