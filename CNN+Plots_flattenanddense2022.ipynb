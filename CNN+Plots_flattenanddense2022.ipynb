{
  "nbformat": 4,
  "nbformat_minor": 0,
  "metadata": {
    "colab": {
      "provenance": [],
      "include_colab_link": true
    },
    "kernelspec": {
      "name": "python3",
      "display_name": "Python 3"
    },
    "language_info": {
      "name": "python"
    }
  },
  "cells": [
    {
      "cell_type": "markdown",
      "metadata": {
        "id": "view-in-github",
        "colab_type": "text"
      },
      "source": [
        "<a href=\"https://colab.research.google.com/github/as02101099/DeepLearning2022Late/blob/main/CNN%2BPlots_flattenanddense2022.ipynb\" target=\"_parent\"><img src=\"https://colab.research.google.com/assets/colab-badge.svg\" alt=\"Open In Colab\"/></a>"
      ]
    },
    {
      "cell_type": "markdown",
      "source": [
        "#CNN(畳み込み層)を追加した学習モデルに全結合層と分類する出力層を追加する\n",
        "##using the conv2d model made earlier to use afterwards"
      ],
      "metadata": {
        "id": "nJBlaCwqTT2J"
      }
    },
    {
      "cell_type": "markdown",
      "source": [
        "## 学習モデルのライブラリのimport"
      ],
      "metadata": {
        "id": "3Y8EMI5xTy8R"
      }
    },
    {
      "cell_type": "code",
      "execution_count": 1,
      "metadata": {
        "id": "zh9XJNW1S1Fd"
      },
      "outputs": [],
      "source": [
        "from keras.models import Sequential, Model # 学習モデルのクラス\n",
        "from keras.layers import Conv2D # 畳み込み層のクラス\n",
        "from keras.layers import Flatten # 全結合層用のクラス\n",
        "from keras.layers import Dense # （分類出力用の）普通のニューロン層"
      ]
    },
    {
      "cell_type": "markdown",
      "source": [
        "## SVG画像表示用のライブラリをimport"
      ],
      "metadata": {
        "id": "PTe-fk0CVFEA"
      }
    },
    {
      "cell_type": "code",
      "source": [
        "from IPython.display import SVG\n",
        "from keras.utils.vis_utils import model_to_dot"
      ],
      "metadata": {
        "id": "p3q-_LHpUC-A"
      },
      "execution_count": 2,
      "outputs": []
    },
    {
      "cell_type": "markdown",
      "source": [
        "## モデルを生成する"
      ],
      "metadata": {
        "id": "nltxkutS-WPK"
      }
    },
    {
      "cell_type": "code",
      "source": [
        "model = Sequential( )"
      ],
      "metadata": {
        "id": "9NSi6MjSVYXj"
      },
      "execution_count": 3,
      "outputs": []
    },
    {
      "cell_type": "markdown",
      "source": [
        "##モデルに層を追加していく"
      ],
      "metadata": {
        "id": "H0Z5kpkr-5VN"
      }
    },
    {
      "cell_type": "code",
      "source": [
        "# 畳み込み層追加\n",
        "model.add(  Conv2D( \n",
        "    filters=3, # ３パターンのフィルター\n",
        "    kernel_size=( 3, 3 ), # 受容野縦3,横3\n",
        "    input_shape=(6, 6, 1), # 入力画像１個分の形縦6,横6\n",
        "     padding='same', # ゼロパディング\n",
        "     name='Conv2D'\n",
        "  )   )"
      ],
      "metadata": {
        "id": "71Rkz39o-n5k"
      },
      "execution_count": 4,
      "outputs": []
    },
    {
      "cell_type": "code",
      "source": [
        "#　全結合層を追加\n",
        "model.add( Flatten(  name='Flatten_1'  )  )"
      ],
      "metadata": {
        "id": "D4Sv2PYEAX_h"
      },
      "execution_count": 5,
      "outputs": []
    },
    {
      "cell_type": "code",
      "source": [
        "# softmax分類を追加\n",
        "model.add(  Dense(  units=10, # 10個のニューロンに分類\n",
        "                  activation='softmax', # 活性化関数softmaxで分類\n",
        "                  name='Dense_1'\n",
        "                  )  )"
      ],
      "metadata": {
        "id": "ZJVuqHIzA_DA"
      },
      "execution_count": 6,
      "outputs": []
    },
    {
      "cell_type": "markdown",
      "source": [
        "## 学習モデルの形をSVG画像で確認"
      ],
      "metadata": {
        "id": "RQ1838n4CjWk"
      }
    },
    {
      "cell_type": "code",
      "source": [
        "SVG(  model_to_dot( model,\n",
        "                  show_shapes=True,\n",
        "                  dpi=None  ).create( prog='dot', format='svg'  )  )"
      ],
      "metadata": {
        "colab": {
          "base_uri": "https://localhost:8080/",
          "height": 427
        },
        "id": "fYcTzUoHB7yh",
        "outputId": "10d88ad7-4e84-4979-bd82-fd84849c0f6e"
      },
      "execution_count": 7,
      "outputs": [
        {
          "output_type": "execute_result",
          "data": {
            "text/plain": [
              "<IPython.core.display.SVG object>"
            ],
            "image/svg+xml": "<svg xmlns=\"http://www.w3.org/2000/svg\" xmlns:xlink=\"http://www.w3.org/1999/xlink\" width=\"354pt\" height=\"304pt\" viewBox=\"0.00 0.00 353.50 304.00\">\n<g id=\"graph0\" class=\"graph\" transform=\"scale(1 1) rotate(0) translate(4 300)\">\n<title>G</title>\n<polygon fill=\"#ffffff\" stroke=\"transparent\" points=\"-4,4 -4,-300 349.5,-300 349.5,4 -4,4\"/>\n<!-- dpi -->\n<g id=\"node1\" class=\"node\">\n<title>dpi</title>\n<ellipse fill=\"none\" stroke=\"#000000\" cx=\"27\" cy=\"-272.5\" rx=\"27\" ry=\"18\"/>\n<text text-anchor=\"middle\" x=\"27\" y=\"-268.8\" font-family=\"Times,serif\" font-size=\"14.00\" fill=\"#000000\">dpi</text>\n</g>\n<!-- 140690656488416 -->\n<g id=\"node2\" class=\"node\">\n<title>140690656488416</title>\n<polygon fill=\"none\" stroke=\"#000000\" points=\"72.5,-249.5 72.5,-295.5 345.5,-295.5 345.5,-249.5 72.5,-249.5\"/>\n<text text-anchor=\"middle\" x=\"124.5\" y=\"-280.3\" font-family=\"Times,serif\" font-size=\"14.00\" fill=\"#000000\">Conv2D_input</text>\n<polyline fill=\"none\" stroke=\"#000000\" points=\"72.5,-272.5 176.5,-272.5 \"/>\n<text text-anchor=\"middle\" x=\"124.5\" y=\"-257.3\" font-family=\"Times,serif\" font-size=\"14.00\" fill=\"#000000\">InputLayer</text>\n<polyline fill=\"none\" stroke=\"#000000\" points=\"176.5,-249.5 176.5,-295.5 \"/>\n<text text-anchor=\"middle\" x=\"205.5\" y=\"-280.3\" font-family=\"Times,serif\" font-size=\"14.00\" fill=\"#000000\">input:</text>\n<polyline fill=\"none\" stroke=\"#000000\" points=\"176.5,-272.5 234.5,-272.5 \"/>\n<text text-anchor=\"middle\" x=\"205.5\" y=\"-257.3\" font-family=\"Times,serif\" font-size=\"14.00\" fill=\"#000000\">output:</text>\n<polyline fill=\"none\" stroke=\"#000000\" points=\"234.5,-249.5 234.5,-295.5 \"/>\n<text text-anchor=\"middle\" x=\"290\" y=\"-280.3\" font-family=\"Times,serif\" font-size=\"14.00\" fill=\"#000000\">[(None, 6, 6, 1)]</text>\n<polyline fill=\"none\" stroke=\"#000000\" points=\"234.5,-272.5 345.5,-272.5 \"/>\n<text text-anchor=\"middle\" x=\"290\" y=\"-257.3\" font-family=\"Times,serif\" font-size=\"14.00\" fill=\"#000000\">[(None, 6, 6, 1)]</text>\n</g>\n<!-- 140690656488176 -->\n<g id=\"node3\" class=\"node\">\n<title>140690656488176</title>\n<polygon fill=\"none\" stroke=\"#000000\" points=\"95.5,-166.5 95.5,-212.5 322.5,-212.5 322.5,-166.5 95.5,-166.5\"/>\n<text text-anchor=\"middle\" x=\"129\" y=\"-197.3\" font-family=\"Times,serif\" font-size=\"14.00\" fill=\"#000000\">Conv2D</text>\n<polyline fill=\"none\" stroke=\"#000000\" points=\"95.5,-189.5 162.5,-189.5 \"/>\n<text text-anchor=\"middle\" x=\"129\" y=\"-174.3\" font-family=\"Times,serif\" font-size=\"14.00\" fill=\"#000000\">Conv2D</text>\n<polyline fill=\"none\" stroke=\"#000000\" points=\"162.5,-166.5 162.5,-212.5 \"/>\n<text text-anchor=\"middle\" x=\"191.5\" y=\"-197.3\" font-family=\"Times,serif\" font-size=\"14.00\" fill=\"#000000\">input:</text>\n<polyline fill=\"none\" stroke=\"#000000\" points=\"162.5,-189.5 220.5,-189.5 \"/>\n<text text-anchor=\"middle\" x=\"191.5\" y=\"-174.3\" font-family=\"Times,serif\" font-size=\"14.00\" fill=\"#000000\">output:</text>\n<polyline fill=\"none\" stroke=\"#000000\" points=\"220.5,-166.5 220.5,-212.5 \"/>\n<text text-anchor=\"middle\" x=\"271.5\" y=\"-197.3\" font-family=\"Times,serif\" font-size=\"14.00\" fill=\"#000000\">(None, 6, 6, 1)</text>\n<polyline fill=\"none\" stroke=\"#000000\" points=\"220.5,-189.5 322.5,-189.5 \"/>\n<text text-anchor=\"middle\" x=\"271.5\" y=\"-174.3\" font-family=\"Times,serif\" font-size=\"14.00\" fill=\"#000000\">(None, 6, 6, 3)</text>\n</g>\n<!-- 140690656488416&#45;&gt;140690656488176 -->\n<g id=\"edge1\" class=\"edge\">\n<title>140690656488416-&gt;140690656488176</title>\n<path fill=\"none\" stroke=\"#000000\" d=\"M209,-249.3799C209,-241.1745 209,-231.7679 209,-222.8786\"/>\n<polygon fill=\"#000000\" stroke=\"#000000\" points=\"212.5001,-222.784 209,-212.784 205.5001,-222.784 212.5001,-222.784\"/>\n</g>\n<!-- 140690656488512 -->\n<g id=\"node4\" class=\"node\">\n<title>140690656488512</title>\n<polygon fill=\"none\" stroke=\"#000000\" points=\"93.5,-83.5 93.5,-129.5 324.5,-129.5 324.5,-83.5 93.5,-83.5\"/>\n<text text-anchor=\"middle\" x=\"129\" y=\"-114.3\" font-family=\"Times,serif\" font-size=\"14.00\" fill=\"#000000\">Flatten_1</text>\n<polyline fill=\"none\" stroke=\"#000000\" points=\"93.5,-106.5 164.5,-106.5 \"/>\n<text text-anchor=\"middle\" x=\"129\" y=\"-91.3\" font-family=\"Times,serif\" font-size=\"14.00\" fill=\"#000000\">Flatten</text>\n<polyline fill=\"none\" stroke=\"#000000\" points=\"164.5,-83.5 164.5,-129.5 \"/>\n<text text-anchor=\"middle\" x=\"193.5\" y=\"-114.3\" font-family=\"Times,serif\" font-size=\"14.00\" fill=\"#000000\">input:</text>\n<polyline fill=\"none\" stroke=\"#000000\" points=\"164.5,-106.5 222.5,-106.5 \"/>\n<text text-anchor=\"middle\" x=\"193.5\" y=\"-91.3\" font-family=\"Times,serif\" font-size=\"14.00\" fill=\"#000000\">output:</text>\n<polyline fill=\"none\" stroke=\"#000000\" points=\"222.5,-83.5 222.5,-129.5 \"/>\n<text text-anchor=\"middle\" x=\"273.5\" y=\"-114.3\" font-family=\"Times,serif\" font-size=\"14.00\" fill=\"#000000\">(None, 6, 6, 3)</text>\n<polyline fill=\"none\" stroke=\"#000000\" points=\"222.5,-106.5 324.5,-106.5 \"/>\n<text text-anchor=\"middle\" x=\"273.5\" y=\"-91.3\" font-family=\"Times,serif\" font-size=\"14.00\" fill=\"#000000\">(None, 108)</text>\n</g>\n<!-- 140690656488176&#45;&gt;140690656488512 -->\n<g id=\"edge2\" class=\"edge\">\n<title>140690656488176-&gt;140690656488512</title>\n<path fill=\"none\" stroke=\"#000000\" d=\"M209,-166.3799C209,-158.1745 209,-148.7679 209,-139.8786\"/>\n<polygon fill=\"#000000\" stroke=\"#000000\" points=\"212.5001,-139.784 209,-129.784 205.5001,-139.784 212.5001,-139.784\"/>\n</g>\n<!-- 140688995405936 -->\n<g id=\"node5\" class=\"node\">\n<title>140688995405936</title>\n<polygon fill=\"none\" stroke=\"#000000\" points=\"103,-.5 103,-46.5 315,-46.5 315,-.5 103,-.5\"/>\n<text text-anchor=\"middle\" x=\"136.5\" y=\"-31.3\" font-family=\"Times,serif\" font-size=\"14.00\" fill=\"#000000\">Dense_1</text>\n<polyline fill=\"none\" stroke=\"#000000\" points=\"103,-23.5 170,-23.5 \"/>\n<text text-anchor=\"middle\" x=\"136.5\" y=\"-8.3\" font-family=\"Times,serif\" font-size=\"14.00\" fill=\"#000000\">Dense</text>\n<polyline fill=\"none\" stroke=\"#000000\" points=\"170,-.5 170,-46.5 \"/>\n<text text-anchor=\"middle\" x=\"199\" y=\"-31.3\" font-family=\"Times,serif\" font-size=\"14.00\" fill=\"#000000\">input:</text>\n<polyline fill=\"none\" stroke=\"#000000\" points=\"170,-23.5 228,-23.5 \"/>\n<text text-anchor=\"middle\" x=\"199\" y=\"-8.3\" font-family=\"Times,serif\" font-size=\"14.00\" fill=\"#000000\">output:</text>\n<polyline fill=\"none\" stroke=\"#000000\" points=\"228,-.5 228,-46.5 \"/>\n<text text-anchor=\"middle\" x=\"271.5\" y=\"-31.3\" font-family=\"Times,serif\" font-size=\"14.00\" fill=\"#000000\">(None, 108)</text>\n<polyline fill=\"none\" stroke=\"#000000\" points=\"228,-23.5 315,-23.5 \"/>\n<text text-anchor=\"middle\" x=\"271.5\" y=\"-8.3\" font-family=\"Times,serif\" font-size=\"14.00\" fill=\"#000000\">(None, 10)</text>\n</g>\n<!-- 140690656488512&#45;&gt;140688995405936 -->\n<g id=\"edge3\" class=\"edge\">\n<title>140690656488512-&gt;140688995405936</title>\n<path fill=\"none\" stroke=\"#000000\" d=\"M209,-83.3799C209,-75.1745 209,-65.7679 209,-56.8786\"/>\n<polygon fill=\"#000000\" stroke=\"#000000\" points=\"212.5001,-56.784 209,-46.784 205.5001,-56.784 212.5001,-56.784\"/>\n</g>\n</g>\n</svg>"
          },
          "metadata": {},
          "execution_count": 7
        }
      ]
    },
    {
      "cell_type": "code",
      "source": [
        "#complete"
      ],
      "metadata": {
        "id": "WHWkvGVSDOhR"
      },
      "execution_count": 8,
      "outputs": []
    },
    {
      "cell_type": "code",
      "source": [],
      "metadata": {
        "id": "BC8loMbKgRkQ"
      },
      "execution_count": null,
      "outputs": []
    }
  ]
}