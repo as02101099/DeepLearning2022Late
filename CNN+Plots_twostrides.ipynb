{
  "nbformat": 4,
  "nbformat_minor": 0,
  "metadata": {
    "colab": {
      "provenance": [],
      "include_colab_link": true
    },
    "kernelspec": {
      "name": "python3",
      "display_name": "Python 3"
    },
    "language_info": {
      "name": "python"
    }
  },
  "cells": [
    {
      "cell_type": "markdown",
      "metadata": {
        "id": "view-in-github",
        "colab_type": "text"
      },
      "source": [
        "<a href=\"https://colab.research.google.com/github/as02101099/DeepLearning2022Late/blob/main/CNN%2BPlots_twostrides.ipynb\" target=\"_parent\"><img src=\"https://colab.research.google.com/assets/colab-badge.svg\" alt=\"Open In Colab\"/></a>"
      ]
    },
    {
      "cell_type": "markdown",
      "source": [
        "#　CNNの畳み込みのカーネル（受容野）の移動量（stride）を指定する\n",
        "upddating kernel\n"
      ],
      "metadata": {
        "id": "rGUVaQlbsXwM"
      }
    },
    {
      "cell_type": "markdown",
      "source": [
        "## ライブラリの読み込み（学習モデルのクラス）"
      ],
      "metadata": {
        "id": "SHgl--IZs31Q"
      }
    },
    {
      "cell_type": "code",
      "execution_count": 1,
      "metadata": {
        "id": "knjen1KUsHJh"
      },
      "outputs": [],
      "source": [
        "from keras.models import Sequential, Model\n",
        "from keras.layers import Conv2D"
      ]
    },
    {
      "cell_type": "markdown",
      "source": [
        "## SVG画像表示用のライブラリのimport"
      ],
      "metadata": {
        "id": "rBmBIjeyte9C"
      }
    },
    {
      "cell_type": "code",
      "source": [
        "from IPython.display import SVG\n",
        "from keras.utils.vis_utils import model_to_dot"
      ],
      "metadata": {
        "id": "dR0Vfm8wtQIM"
      },
      "execution_count": 2,
      "outputs": []
    },
    {
      "cell_type": "markdown",
      "source": [
        "## 学習モデルを生成"
      ],
      "metadata": {
        "id": "VYVvM1vyuHvU"
      }
    },
    {
      "cell_type": "code",
      "source": [
        "model = Sequential( )"
      ],
      "metadata": {
        "id": "1AnqGApxt65E"
      },
      "execution_count": 3,
      "outputs": []
    },
    {
      "cell_type": "markdown",
      "source": [
        "### 学風モデルに畳み込み（Convolutional）層を追加してCNNにする"
      ],
      "metadata": {
        "id": "jVxe6U90udqX"
      }
    },
    {
      "cell_type": "code",
      "source": [
        "model.add(  Conv2D( \n",
        "    filters=3, # 種類のフィルターをかける\n",
        "    kernel_size=(3,3), # 縦3横3の受容野をずらしていく\n",
        "    input_shape=( 6, 6, 1 ), # 入力画像の１個ずつの形\n",
        "    strides=2,  # カーネルの移動量（ストライド）\n",
        "    name=('Conv2D_1')\n",
        " )  )"
      ],
      "metadata": {
        "id": "LE1y-LBnuSxZ"
      },
      "execution_count": 4,
      "outputs": []
    },
    {
      "cell_type": "markdown",
      "source": [
        "## 組み立てた学習モデルの形をSVG画像で表示して確認"
      ],
      "metadata": {
        "id": "6nDrqF7zwGpI"
      }
    },
    {
      "cell_type": "code",
      "source": [
        "SVG( model_to_dot( model, \n",
        "                  show_shapes=True, \n",
        "                  dpi=None  ).create( prog='dot', format='svg' ) )"
      ],
      "metadata": {
        "colab": {
          "base_uri": "https://localhost:8080/",
          "height": 205
        },
        "id": "MQ7Mzgq9vyXd",
        "outputId": "6bc9339c-3d62-45fc-f2ad-c7b6d25e835f"
      },
      "execution_count": 5,
      "outputs": [
        {
          "output_type": "execute_result",
          "data": {
            "text/plain": [
              "<IPython.core.display.SVG object>"
            ],
            "image/svg+xml": "<svg xmlns=\"http://www.w3.org/2000/svg\" xmlns:xlink=\"http://www.w3.org/1999/xlink\" width=\"352pt\" height=\"138pt\" viewBox=\"0.00 0.00 352.00 138.00\">\n<g id=\"graph0\" class=\"graph\" transform=\"scale(1 1) rotate(0) translate(4 134)\">\n<title>G</title>\n<polygon fill=\"white\" stroke=\"transparent\" points=\"-4,4 -4,-134 348,-134 348,4 -4,4\"/>\n<!-- dpi -->\n<g id=\"node1\" class=\"node\">\n<title>dpi</title>\n<ellipse fill=\"none\" stroke=\"black\" cx=\"27\" cy=\"-106.5\" rx=\"27\" ry=\"18\"/>\n<text text-anchor=\"middle\" x=\"27\" y=\"-102.8\" font-family=\"Times,serif\" font-size=\"14.00\">dpi</text>\n</g>\n<!-- 139979022253504 -->\n<g id=\"node2\" class=\"node\">\n<title>139979022253504</title>\n<polygon fill=\"none\" stroke=\"black\" points=\"72,-83.5 72,-129.5 344,-129.5 344,-83.5 72,-83.5\"/>\n<text text-anchor=\"middle\" x=\"127\" y=\"-114.3\" font-family=\"Times,serif\" font-size=\"14.00\">Conv2D_1_input</text>\n<polyline fill=\"none\" stroke=\"black\" points=\"72,-106.5 182,-106.5 \"/>\n<text text-anchor=\"middle\" x=\"127\" y=\"-91.3\" font-family=\"Times,serif\" font-size=\"14.00\">InputLayer</text>\n<polyline fill=\"none\" stroke=\"black\" points=\"182,-83.5 182,-129.5 \"/>\n<text text-anchor=\"middle\" x=\"209.5\" y=\"-114.3\" font-family=\"Times,serif\" font-size=\"14.00\">input:</text>\n<polyline fill=\"none\" stroke=\"black\" points=\"182,-106.5 237,-106.5 \"/>\n<text text-anchor=\"middle\" x=\"209.5\" y=\"-91.3\" font-family=\"Times,serif\" font-size=\"14.00\">output:</text>\n<polyline fill=\"none\" stroke=\"black\" points=\"237,-83.5 237,-129.5 \"/>\n<text text-anchor=\"middle\" x=\"290.5\" y=\"-114.3\" font-family=\"Times,serif\" font-size=\"14.00\">[(None, 6, 6, 1)]</text>\n<polyline fill=\"none\" stroke=\"black\" points=\"237,-106.5 344,-106.5 \"/>\n<text text-anchor=\"middle\" x=\"290.5\" y=\"-91.3\" font-family=\"Times,serif\" font-size=\"14.00\">[(None, 6, 6, 1)]</text>\n</g>\n<!-- 139979022253600 -->\n<g id=\"node3\" class=\"node\">\n<title>139979022253600</title>\n<polygon fill=\"none\" stroke=\"black\" points=\"93.5,-0.5 93.5,-46.5 322.5,-46.5 322.5,-0.5 93.5,-0.5\"/>\n<text text-anchor=\"middle\" x=\"131.5\" y=\"-31.3\" font-family=\"Times,serif\" font-size=\"14.00\">Conv2D_1</text>\n<polyline fill=\"none\" stroke=\"black\" points=\"93.5,-23.5 169.5,-23.5 \"/>\n<text text-anchor=\"middle\" x=\"131.5\" y=\"-8.3\" font-family=\"Times,serif\" font-size=\"14.00\">Conv2D</text>\n<polyline fill=\"none\" stroke=\"black\" points=\"169.5,-0.5 169.5,-46.5 \"/>\n<text text-anchor=\"middle\" x=\"197\" y=\"-31.3\" font-family=\"Times,serif\" font-size=\"14.00\">input:</text>\n<polyline fill=\"none\" stroke=\"black\" points=\"169.5,-23.5 224.5,-23.5 \"/>\n<text text-anchor=\"middle\" x=\"197\" y=\"-8.3\" font-family=\"Times,serif\" font-size=\"14.00\">output:</text>\n<polyline fill=\"none\" stroke=\"black\" points=\"224.5,-0.5 224.5,-46.5 \"/>\n<text text-anchor=\"middle\" x=\"273.5\" y=\"-31.3\" font-family=\"Times,serif\" font-size=\"14.00\">(None, 6, 6, 1)</text>\n<polyline fill=\"none\" stroke=\"black\" points=\"224.5,-23.5 322.5,-23.5 \"/>\n<text text-anchor=\"middle\" x=\"273.5\" y=\"-8.3\" font-family=\"Times,serif\" font-size=\"14.00\">(None, 2, 2, 3)</text>\n</g>\n<!-- 139979022253504&#45;&gt;139979022253600 -->\n<g id=\"edge1\" class=\"edge\">\n<title>139979022253504-&gt;139979022253600</title>\n<path fill=\"none\" stroke=\"black\" d=\"M208,-83.37C208,-75.15 208,-65.66 208,-56.73\"/>\n<polygon fill=\"black\" stroke=\"black\" points=\"211.5,-56.61 208,-46.61 204.5,-56.61 211.5,-56.61\"/>\n</g>\n</g>\n</svg>"
          },
          "metadata": {},
          "execution_count": 5
        }
      ]
    },
    {
      "cell_type": "code",
      "source": [
        "print(\"complete\")"
      ],
      "metadata": {
        "id": "o5z3phV6xL-h",
        "outputId": "c13f0eb8-c652-4666-8dcd-536e492a25e8",
        "colab": {
          "base_uri": "https://localhost:8080/"
        }
      },
      "execution_count": 6,
      "outputs": [
        {
          "output_type": "stream",
          "name": "stdout",
          "text": [
            "complete\n"
          ]
        }
      ]
    }
  ]
}