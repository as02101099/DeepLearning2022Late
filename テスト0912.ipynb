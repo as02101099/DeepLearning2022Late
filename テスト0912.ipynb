{
  "nbformat": 4,
  "nbformat_minor": 0,
  "metadata": {
    "colab": {
      "provenance": [],
      "include_colab_link": true
    },
    "kernelspec": {
      "name": "python3",
      "display_name": "Python 3"
    },
    "language_info": {
      "name": "python"
    }
  },
  "cells": [
    {
      "cell_type": "markdown",
      "metadata": {
        "id": "view-in-github",
        "colab_type": "text"
      },
      "source": [
        "<a href=\"https://colab.research.google.com/github/as02101099/DeepLearning2022Late/blob/main/%E3%83%86%E3%82%B9%E3%83%880912.ipynb\" target=\"_parent\"><img src=\"https://colab.research.google.com/assets/colab-badge.svg\" alt=\"Open In Colab\"/></a>"
      ]
    },
    {
      "cell_type": "code",
      "source": [
        "print(\"Hello World\")"
      ],
      "metadata": {
        "colab": {
          "base_uri": "https://localhost:8080/"
        },
        "id": "HO7w4-qPoyv5",
        "outputId": "5b68835e-229f-4cb7-9fc4-a92bb6da9621"
      },
      "execution_count": 1,
      "outputs": [
        {
          "output_type": "stream",
          "name": "stdout",
          "text": [
            "Hello World\n"
          ]
        }
      ]
    },
    {
      "cell_type": "code",
      "source": [
        "x = 1.23456\n",
        "print(x)\n",
        "print(type(x))"
      ],
      "metadata": {
        "colab": {
          "base_uri": "https://localhost:8080/"
        },
        "id": "zn-KsX3bpUxt",
        "outputId": "f41df6db-e7cd-442e-e506-7beb9c1cefaf"
      },
      "execution_count": 2,
      "outputs": [
        {
          "output_type": "stream",
          "name": "stdout",
          "text": [
            "1.23456\n",
            "<class 'float'>\n"
          ]
        }
      ]
    },
    {
      "cell_type": "code",
      "source": [
        "# 整数型、文字列型も表示する\n",
        "seisuu = 100\n",
        "print( type(seisuu) )\n",
        "hello = \"Hello Python\"\n",
        "print( type(hello) )\n"
      ],
      "metadata": {
        "colab": {
          "base_uri": "https://localhost:8080/"
        },
        "id": "W-6n14jyp0UG",
        "outputId": "57c66bb7-b461-43c0-8b9b-1d21fc6e500e"
      },
      "execution_count": 3,
      "outputs": [
        {
          "output_type": "stream",
          "name": "stdout",
          "text": [
            "<class 'int'>\n",
            "<class 'str'>\n"
          ]
        }
      ]
    },
    {
      "cell_type": "code",
      "source": [
        "# 型を変換する\n",
        "print( type(seisuu) ) #整数型\n",
        "# 文字列型に変換\n",
        "strSeisuu = str( seisuu )\n",
        "print( type( strSeisuu ) )\n"
      ],
      "metadata": {
        "colab": {
          "base_uri": "https://localhost:8080/"
        },
        "id": "leso4QwOq-aQ",
        "outputId": "2f5e9988-9b48-4644-8f89-0cddcf5a5e50"
      },
      "execution_count": 4,
      "outputs": [
        {
          "output_type": "stream",
          "name": "stdout",
          "text": [
            "<class 'int'>\n",
            "<class 'str'>\n"
          ]
        }
      ]
    },
    {
      "cell_type": "code",
      "source": [
        "### 定数\n",
        "#Python3ではｍNone,True/Falseは置き換え不可のキーワード\n",
        "print( type(None) )\n",
        "# true/falseはboolean\n",
        "print(type(True))"
      ],
      "metadata": {
        "colab": {
          "base_uri": "https://localhost:8080/"
        },
        "id": "DMtbo2frrtIg",
        "outputId": "74ab6a9b-6942-4245-ce15-c0457a2df93d"
      },
      "execution_count": 5,
      "outputs": [
        {
          "output_type": "stream",
          "name": "stdout",
          "text": [
            "<class 'NoneType'>\n",
            "<class 'bool'>\n"
          ]
        }
      ]
    },
    {
      "cell_type": "markdown",
      "source": [
        "## 演算の練習"
      ],
      "metadata": {
        "id": "qekEEqyksUjd"
      }
    },
    {
      "cell_type": "code",
      "source": [
        "# 足し算引き算掛け算はJavaといっしょ\n",
        "# 割り算に注意\n",
        "print( 6/4 ) # Javaと違って整数同士の割り算も小数になる\n",
        "print( 6//4 ) # Javaのように整数同士の割り算の整数部を返す\n",
        "# あまり残もJavaと一緒"
      ],
      "metadata": {
        "colab": {
          "base_uri": "https://localhost:8080/"
        },
        "id": "JOsFVwAkrGTR",
        "outputId": "18a96ed0-d8a0-45f2-cc10-19b67b18b276"
      },
      "execution_count": 6,
      "outputs": [
        {
          "output_type": "stream",
          "name": "stdout",
          "text": [
            "1.5\n",
            "1\n"
          ]
        }
      ]
    },
    {
      "cell_type": "code",
      "source": [
        "# 絶対値を出す関数\n",
        "print( abs( -3.14 ) )\n",
        "# n乗敬さん\n",
        "print( pow( 3,4 ) ) # 3の4乗\n",
        "print( 3**4 ) # 3の4乗"
      ],
      "metadata": {
        "colab": {
          "base_uri": "https://localhost:8080/"
        },
        "id": "JO2VkU6btfNn",
        "outputId": "56952776-3fbc-46a9-f4ee-d095f0252d0f"
      },
      "execution_count": 7,
      "outputs": [
        {
          "output_type": "stream",
          "name": "stdout",
          "text": [
            "3.14\n",
            "81\n",
            "81\n"
          ]
        }
      ]
    },
    {
      "cell_type": "code",
      "source": [
        "print(\"complete\")"
      ],
      "metadata": {
        "id": "TI5Jspoq7Bl4",
        "outputId": "02243c50-5235-49d4-8912-16971b10bdc0",
        "colab": {
          "base_uri": "https://localhost:8080/"
        }
      },
      "execution_count": 8,
      "outputs": [
        {
          "output_type": "stream",
          "name": "stdout",
          "text": [
            "complete\n"
          ]
        }
      ]
    },
    {
      "cell_type": "code",
      "source": [],
      "metadata": {
        "id": "d2bS2Nof7DVv"
      },
      "execution_count": null,
      "outputs": []
    }
  ]
}