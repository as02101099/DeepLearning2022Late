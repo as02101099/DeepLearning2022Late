{
  "nbformat": 4,
  "nbformat_minor": 0,
  "metadata": {
    "colab": {
      "provenance": [],
      "include_colab_link": true
    },
    "kernelspec": {
      "name": "python3",
      "display_name": "Python 3"
    },
    "language_info": {
      "name": "python"
    }
  },
  "cells": [
    {
      "cell_type": "markdown",
      "metadata": {
        "id": "view-in-github",
        "colab_type": "text"
      },
      "source": [
        "<a href=\"https://colab.research.google.com/github/as02101099/DeepLearning2022Late/blob/main/CNN%2BTrain_example2022.ipynb\" target=\"_parent\"><img src=\"https://colab.research.google.com/assets/colab-badge.svg\" alt=\"Open In Colab\"/></a>"
      ]
    },
    {
      "cell_type": "markdown",
      "source": [
        "# CNN(畳み込みを含むニューラルネットワーク)でモデルに学習させる（ ＝ 訓練）"
      ],
      "metadata": {
        "id": "I8JzNvLB07XO"
      }
    },
    {
      "cell_type": "markdown",
      "source": [
        "## 学習モデルのライブラリをimport"
      ],
      "metadata": {
        "id": "ShZC52__1d6n"
      }
    },
    {
      "cell_type": "code",
      "execution_count": 1,
      "metadata": {
        "id": "PKm__ZBi0ffR"
      },
      "outputs": [],
      "source": [
        "from keras.models import Sequential, Model\n",
        "from keras.layers import Conv2D\n",
        "from keras.layers import Flatten\n",
        "from keras.layers import Dense"
      ]
    },
    {
      "cell_type": "markdown",
      "source": [
        "## keras自身もimport"
      ],
      "metadata": {
        "id": "iVFvkn9z56L8"
      }
    },
    {
      "cell_type": "code",
      "source": [
        "import keras"
      ],
      "metadata": {
        "id": "IPQUUx4e5-64"
      },
      "execution_count": 2,
      "outputs": []
    },
    {
      "cell_type": "markdown",
      "source": [
        "## SVG画像表示用のライブラリをimport"
      ],
      "metadata": {
        "id": "Z_SiSuJY2YM7"
      }
    },
    {
      "cell_type": "code",
      "source": [
        "from IPython.display import SVG\n",
        "from keras.utils.vis_utils import model_to_dot "
      ],
      "metadata": {
        "id": "tQLeUeDW2Gj0"
      },
      "execution_count": 3,
      "outputs": []
    },
    {
      "cell_type": "markdown",
      "source": [
        "## その他のライブラリをimport"
      ],
      "metadata": {
        "id": "wXsXetzk3BhK"
      }
    },
    {
      "cell_type": "code",
      "source": [
        "# 乱数を作るためにNumpyをimport\n",
        "import numpy as np # importして、npという別名を設定\n",
        "# 早期終了(Earl Stopping)のためのライブラリをimport\n",
        "import keras.callbacks as callbacks # callbacksという別名を設定"
      ],
      "metadata": {
        "id": "jaw-EFBD2uF6"
      },
      "execution_count": 4,
      "outputs": []
    },
    {
      "cell_type": "markdown",
      "source": [
        "## Numpyで乱数を作り、ダミーデータとして学習用、検証用にする"
      ],
      "metadata": {
        "id": "VX5ur8404h_B"
      }
    },
    {
      "cell_type": "code",
      "source": [
        "# 学習用データを x_train として作る\n",
        "x_train = np.random.random(( 100, 6, 6, 1) )\n",
        "# 学習用データの正解を y_train として作る\n",
        "y_train = keras.utils.to_categorical( np.random.randint( 10,size=(100,1)) ,\n",
        "                                     num_classes=10 )"
      ],
      "metadata": {
        "id": "NBILvuE136ja"
      },
      "execution_count": 5,
      "outputs": []
    },
    {
      "cell_type": "code",
      "source": [
        "# テスト検証用データを x_test として作る\n",
        "# (6,6,1)の形を今度は20セット分\n",
        "x_test = np.random.random( ( 20, 6, 6, 1 ) ) \n",
        "# テスト検証用データの正解を y_test として作る\n",
        "y_test = keras.utils.to_categorical( np.random.randint( 10, size=(20,1)), \n",
        "                                    num_classes=10\n",
        "                                     )"
      ],
      "metadata": {
        "id": "yKQV8pcJ5f5b"
      },
      "execution_count": 6,
      "outputs": []
    },
    {
      "cell_type": "markdown",
      "source": [
        "## 学習モデルを生成する"
      ],
      "metadata": {
        "id": "oygV4EDb9QYq"
      }
    },
    {
      "cell_type": "code",
      "source": [
        "model = Sequential( )"
      ],
      "metadata": {
        "id": "mkPwEsnU8P8r"
      },
      "execution_count": 7,
      "outputs": []
    },
    {
      "cell_type": "markdown",
      "source": [
        "## 学習モデルにニューロンの層を追加してニューラルネットワークにする"
      ],
      "metadata": {
        "id": "mJ_jY_GM9duy"
      }
    },
    {
      "cell_type": "markdown",
      "source": [
        "### 畳み込み層を追加"
      ],
      "metadata": {
        "id": "SSxhiRC39squ"
      }
    },
    {
      "cell_type": "code",
      "source": [
        "model.add( Conv2D(  filters=3, # フィルター3パターン\n",
        "    kernel_size=(3,3), # 受容野のサイズ縦3, 横3\n",
        "    kernel_initializer='lecun_uniform',\n",
        "    input_shape=( 6,6,1 ), # 入力データの形縦6, 横6\n",
        "    name='Conv2D_1'\n",
        "  )  )"
      ],
      "metadata": {
        "id": "WzFlDANk9bEK"
      },
      "execution_count": 8,
      "outputs": []
    },
    {
      "cell_type": "markdown",
      "source": [
        "## そのほかの層も追加する"
      ],
      "metadata": {
        "id": "xSzaZXfjAi6g"
      }
    },
    {
      "cell_type": "code",
      "source": [
        "# 全結合層\n",
        "model.add(  Flatten( name='Flatten_1' )  )\n",
        "# softmaxで分類するニューロン層\n",
        "model.add( Dense( units=10, activation='softmax', name='Dense_1'   ) )"
      ],
      "metadata": {
        "id": "xdkN9Urn-11d"
      },
      "execution_count": 9,
      "outputs": []
    },
    {
      "cell_type": "markdown",
      "source": [
        "### 組み立てた学習モデルの構成を、SVG画像として表示"
      ],
      "metadata": {
        "id": "Ml9zmGczGy0p"
      }
    },
    {
      "cell_type": "code",
      "source": [
        "SVG(  model_to_dot( model,\n",
        "                    show_shapes=True, dpi=None\n",
        "                    ).create( prog='dot', format='svg' )  )"
      ],
      "metadata": {
        "colab": {
          "base_uri": "https://localhost:8080/",
          "height": 427
        },
        "id": "mNNaTZd1G54I",
        "outputId": "91a70672-f3d8-4e37-ceb1-46a75c063559"
      },
      "execution_count": 10,
      "outputs": [
        {
          "output_type": "execute_result",
          "data": {
            "text/plain": [
              "<IPython.core.display.SVG object>"
            ],
            "image/svg+xml": "<svg xmlns=\"http://www.w3.org/2000/svg\" xmlns:xlink=\"http://www.w3.org/1999/xlink\" width=\"368pt\" height=\"304pt\" viewBox=\"0.00 0.00 368.00 304.00\">\n<g id=\"graph0\" class=\"graph\" transform=\"scale(1 1) rotate(0) translate(4 300)\">\n<title>G</title>\n<polygon fill=\"#ffffff\" stroke=\"transparent\" points=\"-4,4 -4,-300 364,-300 364,4 -4,4\"/>\n<!-- dpi -->\n<g id=\"node1\" class=\"node\">\n<title>dpi</title>\n<ellipse fill=\"none\" stroke=\"#000000\" cx=\"27\" cy=\"-272.5\" rx=\"27\" ry=\"18\"/>\n<text text-anchor=\"middle\" x=\"27\" y=\"-268.8\" font-family=\"Times,serif\" font-size=\"14.00\" fill=\"#000000\">dpi</text>\n</g>\n<!-- 139970206328624 -->\n<g id=\"node2\" class=\"node\">\n<title>139970206328624</title>\n<polygon fill=\"none\" stroke=\"#000000\" points=\"72,-249.5 72,-295.5 360,-295.5 360,-249.5 72,-249.5\"/>\n<text text-anchor=\"middle\" x=\"131.5\" y=\"-280.3\" font-family=\"Times,serif\" font-size=\"14.00\" fill=\"#000000\">Conv2D_1_input</text>\n<polyline fill=\"none\" stroke=\"#000000\" points=\"72,-272.5 191,-272.5 \"/>\n<text text-anchor=\"middle\" x=\"131.5\" y=\"-257.3\" font-family=\"Times,serif\" font-size=\"14.00\" fill=\"#000000\">InputLayer</text>\n<polyline fill=\"none\" stroke=\"#000000\" points=\"191,-249.5 191,-295.5 \"/>\n<text text-anchor=\"middle\" x=\"220\" y=\"-280.3\" font-family=\"Times,serif\" font-size=\"14.00\" fill=\"#000000\">input:</text>\n<polyline fill=\"none\" stroke=\"#000000\" points=\"191,-272.5 249,-272.5 \"/>\n<text text-anchor=\"middle\" x=\"220\" y=\"-257.3\" font-family=\"Times,serif\" font-size=\"14.00\" fill=\"#000000\">output:</text>\n<polyline fill=\"none\" stroke=\"#000000\" points=\"249,-249.5 249,-295.5 \"/>\n<text text-anchor=\"middle\" x=\"304.5\" y=\"-280.3\" font-family=\"Times,serif\" font-size=\"14.00\" fill=\"#000000\">[(None, 6, 6, 1)]</text>\n<polyline fill=\"none\" stroke=\"#000000\" points=\"249,-272.5 360,-272.5 \"/>\n<text text-anchor=\"middle\" x=\"304.5\" y=\"-257.3\" font-family=\"Times,serif\" font-size=\"14.00\" fill=\"#000000\">[(None, 6, 6, 1)]</text>\n</g>\n<!-- 139970206328720 -->\n<g id=\"node3\" class=\"node\">\n<title>139970206328720</title>\n<polygon fill=\"none\" stroke=\"#000000\" points=\"95,-166.5 95,-212.5 337,-212.5 337,-166.5 95,-166.5\"/>\n<text text-anchor=\"middle\" x=\"136\" y=\"-197.3\" font-family=\"Times,serif\" font-size=\"14.00\" fill=\"#000000\">Conv2D_1</text>\n<polyline fill=\"none\" stroke=\"#000000\" points=\"95,-189.5 177,-189.5 \"/>\n<text text-anchor=\"middle\" x=\"136\" y=\"-174.3\" font-family=\"Times,serif\" font-size=\"14.00\" fill=\"#000000\">Conv2D</text>\n<polyline fill=\"none\" stroke=\"#000000\" points=\"177,-166.5 177,-212.5 \"/>\n<text text-anchor=\"middle\" x=\"206\" y=\"-197.3\" font-family=\"Times,serif\" font-size=\"14.00\" fill=\"#000000\">input:</text>\n<polyline fill=\"none\" stroke=\"#000000\" points=\"177,-189.5 235,-189.5 \"/>\n<text text-anchor=\"middle\" x=\"206\" y=\"-174.3\" font-family=\"Times,serif\" font-size=\"14.00\" fill=\"#000000\">output:</text>\n<polyline fill=\"none\" stroke=\"#000000\" points=\"235,-166.5 235,-212.5 \"/>\n<text text-anchor=\"middle\" x=\"286\" y=\"-197.3\" font-family=\"Times,serif\" font-size=\"14.00\" fill=\"#000000\">(None, 6, 6, 1)</text>\n<polyline fill=\"none\" stroke=\"#000000\" points=\"235,-189.5 337,-189.5 \"/>\n<text text-anchor=\"middle\" x=\"286\" y=\"-174.3\" font-family=\"Times,serif\" font-size=\"14.00\" fill=\"#000000\">(None, 4, 4, 3)</text>\n</g>\n<!-- 139970206328624&#45;&gt;139970206328720 -->\n<g id=\"edge1\" class=\"edge\">\n<title>139970206328624-&gt;139970206328720</title>\n<path fill=\"none\" stroke=\"#000000\" d=\"M216,-249.3799C216,-241.1745 216,-231.7679 216,-222.8786\"/>\n<polygon fill=\"#000000\" stroke=\"#000000\" points=\"219.5001,-222.784 216,-212.784 212.5001,-222.784 219.5001,-222.784\"/>\n</g>\n<!-- 139970133637296 -->\n<g id=\"node4\" class=\"node\">\n<title>139970133637296</title>\n<polygon fill=\"none\" stroke=\"#000000\" points=\"100.5,-83.5 100.5,-129.5 331.5,-129.5 331.5,-83.5 100.5,-83.5\"/>\n<text text-anchor=\"middle\" x=\"136\" y=\"-114.3\" font-family=\"Times,serif\" font-size=\"14.00\" fill=\"#000000\">Flatten_1</text>\n<polyline fill=\"none\" stroke=\"#000000\" points=\"100.5,-106.5 171.5,-106.5 \"/>\n<text text-anchor=\"middle\" x=\"136\" y=\"-91.3\" font-family=\"Times,serif\" font-size=\"14.00\" fill=\"#000000\">Flatten</text>\n<polyline fill=\"none\" stroke=\"#000000\" points=\"171.5,-83.5 171.5,-129.5 \"/>\n<text text-anchor=\"middle\" x=\"200.5\" y=\"-114.3\" font-family=\"Times,serif\" font-size=\"14.00\" fill=\"#000000\">input:</text>\n<polyline fill=\"none\" stroke=\"#000000\" points=\"171.5,-106.5 229.5,-106.5 \"/>\n<text text-anchor=\"middle\" x=\"200.5\" y=\"-91.3\" font-family=\"Times,serif\" font-size=\"14.00\" fill=\"#000000\">output:</text>\n<polyline fill=\"none\" stroke=\"#000000\" points=\"229.5,-83.5 229.5,-129.5 \"/>\n<text text-anchor=\"middle\" x=\"280.5\" y=\"-114.3\" font-family=\"Times,serif\" font-size=\"14.00\" fill=\"#000000\">(None, 4, 4, 3)</text>\n<polyline fill=\"none\" stroke=\"#000000\" points=\"229.5,-106.5 331.5,-106.5 \"/>\n<text text-anchor=\"middle\" x=\"280.5\" y=\"-91.3\" font-family=\"Times,serif\" font-size=\"14.00\" fill=\"#000000\">(None, 48)</text>\n</g>\n<!-- 139970206328720&#45;&gt;139970133637296 -->\n<g id=\"edge2\" class=\"edge\">\n<title>139970206328720-&gt;139970133637296</title>\n<path fill=\"none\" stroke=\"#000000\" d=\"M216,-166.3799C216,-158.1745 216,-148.7679 216,-139.8786\"/>\n<polygon fill=\"#000000\" stroke=\"#000000\" points=\"219.5001,-139.784 216,-129.784 212.5001,-139.784 219.5001,-139.784\"/>\n</g>\n<!-- 139970133637056 -->\n<g id=\"node5\" class=\"node\">\n<title>139970133637056</title>\n<polygon fill=\"none\" stroke=\"#000000\" points=\"113.5,-.5 113.5,-46.5 318.5,-46.5 318.5,-.5 113.5,-.5\"/>\n<text text-anchor=\"middle\" x=\"147\" y=\"-31.3\" font-family=\"Times,serif\" font-size=\"14.00\" fill=\"#000000\">Dense_1</text>\n<polyline fill=\"none\" stroke=\"#000000\" points=\"113.5,-23.5 180.5,-23.5 \"/>\n<text text-anchor=\"middle\" x=\"147\" y=\"-8.3\" font-family=\"Times,serif\" font-size=\"14.00\" fill=\"#000000\">Dense</text>\n<polyline fill=\"none\" stroke=\"#000000\" points=\"180.5,-.5 180.5,-46.5 \"/>\n<text text-anchor=\"middle\" x=\"209.5\" y=\"-31.3\" font-family=\"Times,serif\" font-size=\"14.00\" fill=\"#000000\">input:</text>\n<polyline fill=\"none\" stroke=\"#000000\" points=\"180.5,-23.5 238.5,-23.5 \"/>\n<text text-anchor=\"middle\" x=\"209.5\" y=\"-8.3\" font-family=\"Times,serif\" font-size=\"14.00\" fill=\"#000000\">output:</text>\n<polyline fill=\"none\" stroke=\"#000000\" points=\"238.5,-.5 238.5,-46.5 \"/>\n<text text-anchor=\"middle\" x=\"278.5\" y=\"-31.3\" font-family=\"Times,serif\" font-size=\"14.00\" fill=\"#000000\">(None, 48)</text>\n<polyline fill=\"none\" stroke=\"#000000\" points=\"238.5,-23.5 318.5,-23.5 \"/>\n<text text-anchor=\"middle\" x=\"278.5\" y=\"-8.3\" font-family=\"Times,serif\" font-size=\"14.00\" fill=\"#000000\">(None, 10)</text>\n</g>\n<!-- 139970133637296&#45;&gt;139970133637056 -->\n<g id=\"edge3\" class=\"edge\">\n<title>139970133637296-&gt;139970133637056</title>\n<path fill=\"none\" stroke=\"#000000\" d=\"M216,-83.3799C216,-75.1745 216,-65.7679 216,-56.8786\"/>\n<polygon fill=\"#000000\" stroke=\"#000000\" points=\"219.5001,-56.784 216,-46.784 212.5001,-56.784 219.5001,-56.784\"/>\n</g>\n</g>\n</svg>"
          },
          "metadata": {},
          "execution_count": 10
        }
      ]
    },
    {
      "cell_type": "markdown",
      "source": [
        "## 組み立てたモデルを学習データで訓練する\n",
        "### 早期終了も設定する"
      ],
      "metadata": {
        "id": "XcUKx-ARIFGd"
      }
    },
    {
      "cell_type": "code",
      "source": [
        "# 早期終了用の設定のオブジェクトを用意する\n",
        "earlyStopping = callbacks.EarlyStopping( monitor='val_loss',# 損失を監視\n",
        "                                    patience=5 ) # epoch5つ分様子を見る"
      ],
      "metadata": {
        "id": "G_OzoyvLHWSF"
      },
      "execution_count": 11,
      "outputs": []
    },
    {
      "cell_type": "markdown",
      "source": [
        "### 学習方法を指定して学習モデルをコンパイルする"
      ],
      "metadata": {
        "id": "flt3Z6QjLBpg"
      }
    },
    {
      "cell_type": "code",
      "source": [
        "model.compile( loss='mean_squared_error', #損失を 平均(mean)二乗(Suqared)誤差(Error)で計算\n",
        "              optimizer='sgd' # パラメータの重みをSGDで最適化する\n",
        "              # SGD = 確率的勾配降下法\n",
        "              )"
      ],
      "metadata": {
        "id": "5wTAKoDoJ2Rp"
      },
      "execution_count": 12,
      "outputs": []
    },
    {
      "cell_type": "markdown",
      "source": [
        "### 学習方法を指定した学習モデルを訓練する"
      ],
      "metadata": {
        "id": "BuxzLnRNNNRW"
      }
    },
    {
      "cell_type": "code",
      "source": [
        "model.fit( x_train, y_train, # 学習データと答えデータ\n",
        "    batch_size=32, # 32個ずつまとめて学習(=バッチ学習)してから重みを調整する\n",
        "    epochs=10, # バッチが終わったら重みを調整して学習しなおす、その回数\n",
        "    callbacks=[ earlyStopping ], # エポックの中で呼ぶcallback処理のリストに早期終了を追加\n",
        "    validation_split=0.2 # 学習データのうち2割を、学習中の自己評価検証に使う\n",
        " )"
      ],
      "metadata": {
        "colab": {
          "base_uri": "https://localhost:8080/"
        },
        "id": "oMaLPQHlMs61",
        "outputId": "dccfb0d7-86b9-4c73-b745-6c5464ec232e"
      },
      "execution_count": 13,
      "outputs": [
        {
          "output_type": "stream",
          "name": "stdout",
          "text": [
            "Epoch 1/10\n",
            "3/3 [==============================] - 1s 116ms/step - loss: 0.0936 - val_loss: 0.0911\n",
            "Epoch 2/10\n",
            "3/3 [==============================] - 0s 11ms/step - loss: 0.0936 - val_loss: 0.0910\n",
            "Epoch 3/10\n",
            "3/3 [==============================] - 0s 12ms/step - loss: 0.0936 - val_loss: 0.0910\n",
            "Epoch 4/10\n",
            "3/3 [==============================] - 0s 12ms/step - loss: 0.0936 - val_loss: 0.0910\n",
            "Epoch 5/10\n",
            "3/3 [==============================] - 0s 12ms/step - loss: 0.0936 - val_loss: 0.0910\n",
            "Epoch 6/10\n",
            "3/3 [==============================] - 0s 17ms/step - loss: 0.0936 - val_loss: 0.0910\n",
            "Epoch 7/10\n",
            "3/3 [==============================] - 0s 13ms/step - loss: 0.0936 - val_loss: 0.0910\n",
            "Epoch 8/10\n",
            "3/3 [==============================] - 0s 14ms/step - loss: 0.0936 - val_loss: 0.0910\n",
            "Epoch 9/10\n",
            "3/3 [==============================] - 0s 13ms/step - loss: 0.0936 - val_loss: 0.0910\n",
            "Epoch 10/10\n",
            "3/3 [==============================] - 0s 13ms/step - loss: 0.0936 - val_loss: 0.0910\n"
          ]
        },
        {
          "output_type": "execute_result",
          "data": {
            "text/plain": [
              "<keras.callbacks.History at 0x7f4d55ff4dc0>"
            ]
          },
          "metadata": {},
          "execution_count": 13
        }
      ]
    },
    {
      "cell_type": "code",
      "source": [
        "print(\"complety executed\")"
      ],
      "metadata": {
        "id": "FvmuSk63P9wR",
        "outputId": "5f2f38f4-d566-438b-9259-3842df90bc70",
        "colab": {
          "base_uri": "https://localhost:8080/"
        }
      },
      "execution_count": 14,
      "outputs": [
        {
          "output_type": "stream",
          "name": "stdout",
          "text": [
            "complety executed\n"
          ]
        }
      ]
    },
    {
      "cell_type": "code",
      "source": [],
      "metadata": {
        "id": "OqhpYH_zii_a"
      },
      "execution_count": null,
      "outputs": []
    }
  ]
}